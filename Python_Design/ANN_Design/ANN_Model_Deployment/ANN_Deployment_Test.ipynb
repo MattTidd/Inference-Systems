{
 "cells": [
  {
   "cell_type": "markdown",
   "metadata": {},
   "source": [
    "# **Introduction:**\n",
    "\n",
    "This file serves to deploy an ANN model that had been developed, and to test its ability to generalize beyond the universe of discourse of the input values.\n",
    "\n",
    "**Date Created:** 8/1/2025\n",
    "\n",
    "**Date Modified:** 8/1/2025"
   ]
  },
  {
   "cell_type": "markdown",
   "metadata": {},
   "source": [
    "# **Import Packages:**\n",
    "\n",
    "Need to import the following packages:"
   ]
  },
  {
   "cell_type": "code",
   "execution_count": 17,
   "metadata": {},
   "outputs": [],
   "source": [
    "# import packages:\n",
    "import pandas as pd\n",
    "import numpy as np\n",
    "import matplotlib.pyplot as plt\n",
    "from keras.models import load_model\n",
    "from tensorflow.keras.losses import MeanSquaredError\n",
    "from sklearn.preprocessing import StandardScaler"
   ]
  },
  {
   "cell_type": "markdown",
   "metadata": {},
   "source": [
    "# **Load the Model:**\n",
    "\n",
    "Need to load the model such that it may be used for inference:"
   ]
  },
  {
   "cell_type": "code",
   "execution_count": 18,
   "metadata": {},
   "outputs": [
    {
     "name": "stderr",
     "output_type": "stream",
     "text": [
      "WARNING:absl:Compiled the loaded model, but the compiled metrics have yet to be built. `model.compile_metrics` will be empty until you train or evaluate the model.\n"
     ]
    }
   ],
   "source": [
    "# load model using keras API:\n",
    "model = load_model('model.h5', custom_objects = {'mse': MeanSquaredError()})"
   ]
  },
  {
   "cell_type": "markdown",
   "metadata": {},
   "source": [
    "# **Evaluate the Loaded Model:**\n",
    "\n",
    "Need to see if it actually worked. Going to try testing the model on the following input sequence:"
   ]
  },
  {
   "cell_type": "code",
   "execution_count": 40,
   "metadata": {},
   "outputs": [
    {
     "name": "stdout",
     "output_type": "stream",
     "text": [
      "input testing data is: [[ 2 11 18]]\n",
      "scaled testing data is: [[0. 0. 0.]]\n",
      "\u001b[1m1/1\u001b[0m \u001b[32m━━━━━━━━━━━━━━━━━━━━\u001b[0m\u001b[37m\u001b[0m \u001b[1m0s\u001b[0m 10ms/step\n",
      "model prediction is: [[3.7589157]]\n"
     ]
    }
   ],
   "source": [
    "# define input sequence:\n",
    "test_x = np.array([2, 11, 18]).reshape(-1, 3)\n",
    "print(f'input testing data is: {test_x}')\n",
    "\n",
    "# define a scaler:\n",
    "scaler = StandardScaler()\n",
    "x_data = scaler.fit_transform(test_x)\n",
    "print(f'scaled testing data is: {x_data}')\n",
    "\n",
    "# attempt prediction:\n",
    "y_pred = model.predict(x_data)\n",
    "print(f'model prediction is: {y_pred}')\n"
   ]
  }
 ],
 "metadata": {
  "kernelspec": {
   "display_name": "Python 3",
   "language": "python",
   "name": "python3"
  },
  "language_info": {
   "codemirror_mode": {
    "name": "ipython",
    "version": 3
   },
   "file_extension": ".py",
   "mimetype": "text/x-python",
   "name": "python",
   "nbconvert_exporter": "python",
   "pygments_lexer": "ipython3",
   "version": "3.12.5"
  }
 },
 "nbformat": 4,
 "nbformat_minor": 2
}
