{
 "cells": [
  {
   "cell_type": "markdown",
   "metadata": {},
   "source": [
    "# **Introduction:**\n",
    "\n",
    "This file serves to host an artificial neural network (ANN) implementation for use in multi-robot task allocation through regression on FIS-generated data. The goal for designing this FIS is to compare its performance against an ANFIS to determine which is better at approximating the FIS, which will be achieved through using the coefficient of determination ($R^{2}$), root mean squared error (RMSE), and mean absolute error (MAE).\n",
    "\n",
    "**Date Created:** 12/12/2024\n",
    "\n",
    "**Date Modified:** 12/12/2024\n"
   ]
  },
  {
   "cell_type": "markdown",
   "metadata": {},
   "source": [
    "# **Import Packages:**\n",
    "\n",
    "This section imports all necessary packages for the ANN implementation.\n",
    "\n"
   ]
  },
  {
   "cell_type": "code",
   "execution_count": 85,
   "metadata": {},
   "outputs": [],
   "source": [
    "# import packages:\n",
    "import tensorflow as tf\n",
    "from tensorflow import keras\n",
    "from tensorflow.keras.models import Sequential \n",
    "from tensorflow.keras.layers import Dense, BatchNormalization, Dropout\n",
    "from tensorflow.keras.optimizers import Adam\n",
    "import keras_tuner as kt\n",
    "from sklearn.model_selection import train_test_split\n",
    "from sklearn.preprocessing import StandardScaler\n",
    "import pandas as pd\n",
    "import numpy as np\n",
    "import matplotlib.pyplot as plt\n",
    "import os\n",
    "import shutil\n",
    "import time\n",
    "import json"
   ]
  },
  {
   "cell_type": "markdown",
   "metadata": {},
   "source": [
    "# **Data Loading & Discovery:**\n",
    "\n",
    "This section loads the data that was generated from the FIS. "
   ]
  },
  {
   "cell_type": "code",
   "execution_count": 86,
   "metadata": {},
   "outputs": [
    {
     "name": "stdout",
     "output_type": "stream",
     "text": [
      "data path is: c:\\Users\\mtidd2\\Desktop\\Research\\fis_design\\Python_Design\\ANN_Design\\V3_Data.csv\n",
      "data successfully loaded\n",
      "dataframe shape is: (15000, 4)\n",
      "columns are: ['Load History', 'Distance to Task', 'Total Distance Travelled', 'Suitability']\n",
      "\n"
     ]
    },
    {
     "data": {
      "text/html": [
       "<div>\n",
       "<style scoped>\n",
       "    .dataframe tbody tr th:only-of-type {\n",
       "        vertical-align: middle;\n",
       "    }\n",
       "\n",
       "    .dataframe tbody tr th {\n",
       "        vertical-align: top;\n",
       "    }\n",
       "\n",
       "    .dataframe thead th {\n",
       "        text-align: right;\n",
       "    }\n",
       "</style>\n",
       "<table border=\"1\" class=\"dataframe\">\n",
       "  <thead>\n",
       "    <tr style=\"text-align: right;\">\n",
       "      <th></th>\n",
       "      <th>Load History</th>\n",
       "      <th>Distance to Task</th>\n",
       "      <th>Total Distance Travelled</th>\n",
       "      <th>Suitability</th>\n",
       "    </tr>\n",
       "  </thead>\n",
       "  <tbody>\n",
       "    <tr>\n",
       "      <th>0</th>\n",
       "      <td>4.0</td>\n",
       "      <td>13.0</td>\n",
       "      <td>42.0</td>\n",
       "      <td>3.312951</td>\n",
       "    </tr>\n",
       "    <tr>\n",
       "      <th>1</th>\n",
       "      <td>0.0</td>\n",
       "      <td>12.0</td>\n",
       "      <td>15.0</td>\n",
       "      <td>6.003929</td>\n",
       "    </tr>\n",
       "    <tr>\n",
       "      <th>2</th>\n",
       "      <td>9.0</td>\n",
       "      <td>11.0</td>\n",
       "      <td>9.0</td>\n",
       "      <td>4.140384</td>\n",
       "    </tr>\n",
       "    <tr>\n",
       "      <th>3</th>\n",
       "      <td>0.0</td>\n",
       "      <td>20.0</td>\n",
       "      <td>7.0</td>\n",
       "      <td>4.521692</td>\n",
       "    </tr>\n",
       "    <tr>\n",
       "      <th>4</th>\n",
       "      <td>1.0</td>\n",
       "      <td>2.0</td>\n",
       "      <td>44.0</td>\n",
       "      <td>5.133376</td>\n",
       "    </tr>\n",
       "  </tbody>\n",
       "</table>\n",
       "</div>"
      ],
      "text/plain": [
       "   Load History  Distance to Task  Total Distance Travelled  Suitability\n",
       "0           4.0              13.0                      42.0     3.312951\n",
       "1           0.0              12.0                      15.0     6.003929\n",
       "2           9.0              11.0                       9.0     4.140384\n",
       "3           0.0              20.0                       7.0     4.521692\n",
       "4           1.0               2.0                      44.0     5.133376"
      ]
     },
     "execution_count": 86,
     "metadata": {},
     "output_type": "execute_result"
    }
   ],
   "source": [
    "# get the path to the data CSV\n",
    "files_in_dir = os.listdir(os.getcwd())\n",
    "data_path = os.path.join(os.getcwd(), files_in_dir[files_in_dir.index('V3_Data.csv')])\n",
    "print(f\"data path is: {data_path}\")\n",
    "\n",
    "# load the CSV as a pandas dataframe:\n",
    "df = pd.read_csv(data_path)\n",
    "print(f\"data successfully loaded\")\n",
    "\n",
    "# inspect some members of the dataframe:\n",
    "print(f\"dataframe shape is: {df.shape}\")\n",
    "print(f\"columns are: {list(df.columns)}\\n\")\n",
    "df.head()"
   ]
  },
  {
   "cell_type": "markdown",
   "metadata": {},
   "source": [
    "Going to check the distribution of each input variable, as well as the suitability:"
   ]
  },
  {
   "cell_type": "code",
   "execution_count": 87,
   "metadata": {},
   "outputs": [
    {
     "data": {
      "image/png": "[encoded data removed]",
      "text/plain": [
       "<Figure size 1200x800 with 4 Axes>"
      ]
     },
     "metadata": {},
     "output_type": "display_data"
    }
   ],
   "source": [
    "# get histogram of each column:\n",
    "\n",
    "fig = plt.figure(figsize = (12,8))\n",
    "plt.subplot(2,2,1)\n",
    "df['Load History'].hist()\n",
    "plt.xlabel('Load History')\n",
    "plt.ylabel('Counts')\n",
    "plt.subplot(2,2,2)\n",
    "df['Distance to Task'].hist()\n",
    "plt.xlabel('Distance to Task (m)')\n",
    "plt.ylabel('Counts')\n",
    "plt.subplot(2,2,3)\n",
    "df['Total Distance Travelled'].hist()\n",
    "plt.xlabel('Total Distance Travelled (m)')\n",
    "plt.ylabel('Counts')\n",
    "plt.subplot(2,2,4)\n",
    "df['Suitability'].hist()\n",
    "plt.xlabel('Suitability')\n",
    "plt.ylabel('Counts')\n",
    "plt.show()"
   ]
  },
  {
   "cell_type": "markdown",
   "metadata": {},
   "source": [
    "# **Pre-process Data:**\n",
    "\n",
    "This section will split the data into training, validation, and testing, alongside performing some pre-processing."
   ]
  },
  {
   "cell_type": "code",
   "execution_count": 88,
   "metadata": {},
   "outputs": [],
   "source": [
    "# get feature and label dataframes:\n",
    "x_data = df.drop(['Suitability'], axis = 1)\n",
    "y_data = df['Suitability']"
   ]
  },
  {
   "cell_type": "markdown",
   "metadata": {},
   "source": [
    "Need to first standardize the values:"
   ]
  },
  {
   "cell_type": "code",
   "execution_count": 89,
   "metadata": {},
   "outputs": [],
   "source": [
    "# define scaler:\n",
    "scaler = StandardScaler()\n",
    "x_data_scaled = scaler.fit_transform(x_data)"
   ]
  },
  {
   "cell_type": "markdown",
   "metadata": {},
   "source": [
    "Split data into training, validation, and testing:"
   ]
  },
  {
   "cell_type": "code",
   "execution_count": 90,
   "metadata": {},
   "outputs": [
    {
     "name": "stdout",
     "output_type": "stream",
     "text": [
      "there are 12000 training examples\n",
      "there are 1500 validation examples\n",
      "there are 1500 testing examples\n"
     ]
    }
   ],
   "source": [
    "# split dataset:\n",
    "x_train, x_test, y_train, y_test = train_test_split(x_data, y_data, test_size = 0.2)\n",
    "x_val, x_test, y_val, y_test = train_test_split(x_test, y_test, test_size = 0.5)\n",
    "\n",
    "# get split results:\n",
    "print(f\"there are {x_train.shape[0]} training examples\")\n",
    "print(f\"there are {x_val.shape[0]} validation examples\")\n",
    "print(f\"there are {x_test.shape[0]} testing examples\")\n",
    "\n",
    "# get input shape:\n",
    "INPUT_SHAPE = x_data.shape[1]"
   ]
  },
  {
   "cell_type": "markdown",
   "metadata": {},
   "source": [
    "# **Model Exploration:**\n",
    "\n",
    "Within this section, a function is defined for instantiating models using the Keras API, for use in performing a hyperparameter search to determine the best combination of hyperparameters. The hyperparameters that are being considered are:\n",
    "\n",
    "* number of hidden layers\n",
    "* number of hidden neurons\n",
    "* number of epochs\n",
    "* learning rate\n",
    "* using batch normalization vs. not using batch normalization\n",
    "* using dropout vs. not using dropout\n",
    "* activation function\n",
    "* batch size"
   ]
  },
  {
   "cell_type": "code",
   "execution_count": 91,
   "metadata": {},
   "outputs": [],
   "source": [
    "# define parameter values to be explored:\n",
    "# num_hidden_layers = [1, 2, 3]\n",
    "# num_hidden_neurons = [16, 32, 64]\n",
    "# num_epochs = [50, 150, 250]\n",
    "# learning_rates = [0.001, 0.0005, 0.0001]\n",
    "# activation_functions = ['relu', 'sigmoid']\n",
    "# batch_sizes = [32, 64, 128, 256]\n",
    "num_hidden_layers = [1]\n",
    "num_hidden_neurons = [16]\n",
    "num_epochs = [50]\n",
    "learning_rates = [0.0001]\n",
    "activation_functions = ['relu']\n",
    "batch_sizes = [64]\n",
    "\n",
    "LOSS_FUNCTION = 'mse'\n",
    "METRICS = ['mae', keras.metrics.RootMeanSquaredError()]"
   ]
  },
  {
   "cell_type": "markdown",
   "metadata": {},
   "source": [
    "Define a model generation function:"
   ]
  },
  {
   "cell_type": "code",
   "execution_count": 92,
   "metadata": {},
   "outputs": [],
   "source": [
    "# define function:\n",
    "\n",
    "def make_model(layers, neurons, rate, norm, drop, activation):\n",
    "    # instantiate model:\n",
    "    model = keras.Sequential()\n",
    "\n",
    "    # add hidden layers:\n",
    "    for i in range(layers):\n",
    "        if i == 0:\n",
    "            model.add(Dense(neurons, activation = activation, input_shape = (INPUT_SHAPE, ), name = f'hidden_layer_{i+1}'))\n",
    "        else:\n",
    "            model.add(Dense(neurons, activation = activation, name = f'hidden_layer_{i+1}'))\n",
    "        \n",
    "        if norm == True:\n",
    "            model.add(BatchNormalization(name = f'batch_norm_layer_{i+1}'))\n",
    "        \n",
    "        if drop == True:\n",
    "            model.add(Dropout(0.2, name = f'dropout_layer_{i+1}'))\n",
    "        \n",
    "    # add output layer:\n",
    "    model.add(Dense(1, activation = 'linear', name = 'output_layer'))\n",
    "\n",
    "    # compile the model:\n",
    "    model.compile(optimizer = Adam(learning_rate = rate),\n",
    "                  loss = LOSS_FUNCTION,\n",
    "                  metrics = METRICS)\n",
    "    \n",
    "    return model"
   ]
  },
  {
   "cell_type": "markdown",
   "metadata": {},
   "source": [
    "Now we must perform the grid search. This process entails:\n",
    "\n",
    "* Creating a model using the aforementioned \"make_model()\" function\n",
    "* Save the parameters used in the creation of the model within dictionary called \"model_params\"\n",
    "* Train the model, saving results into a dictionary called \"training results\"\n",
    "\n",
    "While iterating through each combination of parameters."
   ]
  },
  {
   "cell_type": "code",
   "execution_count": 93,
   "metadata": {},
   "outputs": [
    {
     "name": "stdout",
     "output_type": "stream",
     "text": [
      "Epoch 1/50\n"
     ]
    },
    {
     "name": "stderr",
     "output_type": "stream",
     "text": [
      "c:\\Users\\mtidd2\\AppData\\Local\\Programs\\Python\\Python312\\Lib\\site-packages\\keras\\src\\layers\\core\\dense.py:87: UserWarning: Do not pass an `input_shape`/`input_dim` argument to a layer. When using Sequential models, prefer using an `Input(shape)` object as the first layer in the model instead.\n",
      "  super().__init__(activity_regularizer=activity_regularizer, **kwargs)\n"
     ]
    },
    {
     "name": "stdout",
     "output_type": "stream",
     "text": [
      "\u001b[1m188/188\u001b[0m \u001b[32m━━━━━━━━━━━━━━━━━━━━\u001b[0m\u001b[37m\u001b[0m \u001b[1m1s\u001b[0m 1ms/step - loss: 20.8103 - mae: 4.1019 - root_mean_squared_error: 4.5617 - val_loss: 20.1738 - val_mae: 4.1499 - val_root_mean_squared_error: 4.4915\n",
      "Epoch 2/50\n",
      "\u001b[1m188/188\u001b[0m \u001b[32m━━━━━━━━━━━━━━━━━━━━\u001b[0m\u001b[37m\u001b[0m \u001b[1m0s\u001b[0m 484us/step - loss: 18.6645 - mae: 3.9400 - root_mean_squared_error: 4.3202 - val_loss: 19.1526 - val_mae: 4.1137 - val_root_mean_squared_error: 4.3764\n",
      "Epoch 3/50\n",
      "\u001b[1m188/188\u001b[0m \u001b[32m━━━━━━━━━━━━━━━━━━━━\u001b[0m\u001b[37m\u001b[0m \u001b[1m0s\u001b[0m 456us/step - loss: 17.2981 - mae: 3.8297 - root_mean_squared_error: 4.1589 - val_loss: 17.4579 - val_mae: 3.9753 - val_root_mean_squared_error: 4.1783\n",
      "Epoch 4/50\n",
      "\u001b[1m188/188\u001b[0m \u001b[32m━━━━━━━━━━━━━━━━━━━━\u001b[0m\u001b[37m\u001b[0m \u001b[1m0s\u001b[0m 553us/step - loss: 15.8256 - mae: 3.7076 - root_mean_squared_error: 3.9778 - val_loss: 15.8096 - val_mae: 3.8241 - val_root_mean_squared_error: 3.9761\n",
      "Epoch 5/50\n",
      "\u001b[1m188/188\u001b[0m \u001b[32m━━━━━━━━━━━━━━━━━━━━\u001b[0m\u001b[37m\u001b[0m \u001b[1m0s\u001b[0m 583us/step - loss: 14.5025 - mae: 3.5924 - root_mean_squared_error: 3.8078 - val_loss: 14.0923 - val_mae: 3.6340 - val_root_mean_squared_error: 3.7540\n",
      "Epoch 6/50\n",
      "\u001b[1m188/188\u001b[0m \u001b[32m━━━━━━━━━━━━━━━━━━━━\u001b[0m\u001b[37m\u001b[0m \u001b[1m0s\u001b[0m 643us/step - loss: 13.2881 - mae: 3.4558 - root_mean_squared_error: 3.6448 - val_loss: 12.5143 - val_mae: 3.4368 - val_root_mean_squared_error: 3.5376\n",
      "Epoch 7/50\n",
      "\u001b[1m188/188\u001b[0m \u001b[32m━━━━━━━━━━━━━━━━━━━━\u001b[0m\u001b[37m\u001b[0m \u001b[1m0s\u001b[0m 529us/step - loss: 12.0528 - mae: 3.2915 - root_mean_squared_error: 3.4713 - val_loss: 11.0079 - val_mae: 3.2268 - val_root_mean_squared_error: 3.3178\n",
      "Epoch 8/50\n",
      "\u001b[1m188/188\u001b[0m \u001b[32m━━━━━━━━━━━━━━━━━━━━\u001b[0m\u001b[37m\u001b[0m \u001b[1m0s\u001b[0m 505us/step - loss: 10.8472 - mae: 3.1151 - root_mean_squared_error: 3.2933 - val_loss: 9.7557 - val_mae: 3.0389 - val_root_mean_squared_error: 3.1234\n",
      "Epoch 9/50\n",
      "\u001b[1m188/188\u001b[0m \u001b[32m━━━━━━━━━━━━━━━━━━━━\u001b[0m\u001b[37m\u001b[0m \u001b[1m0s\u001b[0m 609us/step - loss: 9.6044 - mae: 2.9253 - root_mean_squared_error: 3.0990 - val_loss: 8.4594 - val_mae: 2.8265 - val_root_mean_squared_error: 2.9085\n",
      "Epoch 10/50\n",
      "\u001b[1m188/188\u001b[0m \u001b[32m━━━━━━━━━━━━━━━━━━━━\u001b[0m\u001b[37m\u001b[0m \u001b[1m0s\u001b[0m 575us/step - loss: 8.6372 - mae: 2.7559 - root_mean_squared_error: 2.9386 - val_loss: 7.2624 - val_mae: 2.6147 - val_root_mean_squared_error: 2.6949\n",
      "Epoch 11/50\n",
      "\u001b[1m188/188\u001b[0m \u001b[32m━━━━━━━━━━━━━━━━━━━━\u001b[0m\u001b[37m\u001b[0m \u001b[1m0s\u001b[0m 634us/step - loss: 7.5173 - mae: 2.5495 - root_mean_squared_error: 2.7417 - val_loss: 6.2119 - val_mae: 2.4142 - val_root_mean_squared_error: 2.4924\n",
      "Epoch 12/50\n",
      "\u001b[1m188/188\u001b[0m \u001b[32m━━━━━━━━━━━━━━━━━━━━\u001b[0m\u001b[37m\u001b[0m \u001b[1m0s\u001b[0m 546us/step - loss: 6.6704 - mae: 2.3774 - root_mean_squared_error: 2.5823 - val_loss: 5.2246 - val_mae: 2.2102 - val_root_mean_squared_error: 2.2857\n",
      "Epoch 13/50\n",
      "\u001b[1m188/188\u001b[0m \u001b[32m━━━━━━━━━━━━━━━━━━━━\u001b[0m\u001b[37m\u001b[0m \u001b[1m0s\u001b[0m 540us/step - loss: 5.6929 - mae: 2.1724 - root_mean_squared_error: 2.3858 - val_loss: 4.3164 - val_mae: 2.0036 - val_root_mean_squared_error: 2.0776\n",
      "Epoch 14/50\n",
      "\u001b[1m188/188\u001b[0m \u001b[32m━━━━━━━━━━━━━━━━━━━━\u001b[0m\u001b[37m\u001b[0m \u001b[1m0s\u001b[0m 625us/step - loss: 4.9597 - mae: 1.9905 - root_mean_squared_error: 2.2269 - val_loss: 3.5640 - val_mae: 1.8161 - val_root_mean_squared_error: 1.8878\n",
      "Epoch 15/50\n",
      "\u001b[1m188/188\u001b[0m \u001b[32m━━━━━━━━━━━━━━━━━━━━\u001b[0m\u001b[37m\u001b[0m \u001b[1m0s\u001b[0m 562us/step - loss: 4.2563 - mae: 1.8114 - root_mean_squared_error: 2.0628 - val_loss: 2.8546 - val_mae: 1.6143 - val_root_mean_squared_error: 1.6896\n",
      "Epoch 16/50\n",
      "\u001b[1m188/188\u001b[0m \u001b[32m━━━━━━━━━━━━━━━━━━━━\u001b[0m\u001b[37m\u001b[0m \u001b[1m0s\u001b[0m 597us/step - loss: 3.5972 - mae: 1.6355 - root_mean_squared_error: 1.8964 - val_loss: 2.2200 - val_mae: 1.4092 - val_root_mean_squared_error: 1.4900\n",
      "Epoch 17/50\n",
      "\u001b[1m188/188\u001b[0m \u001b[32m━━━━━━━━━━━━━━━━━━━━\u001b[0m\u001b[37m\u001b[0m \u001b[1m0s\u001b[0m 643us/step - loss: 3.0632 - mae: 1.4600 - root_mean_squared_error: 1.7499 - val_loss: 1.6818 - val_mae: 1.2068 - val_root_mean_squared_error: 1.2968\n",
      "Epoch 18/50\n",
      "\u001b[1m188/188\u001b[0m \u001b[32m━━━━━━━━━━━━━━━━━━━━\u001b[0m\u001b[37m\u001b[0m \u001b[1m0s\u001b[0m 560us/step - loss: 2.5928 - mae: 1.3155 - root_mean_squared_error: 1.6100 - val_loss: 1.2761 - val_mae: 1.0294 - val_root_mean_squared_error: 1.1296\n",
      "Epoch 19/50\n",
      "\u001b[1m188/188\u001b[0m \u001b[32m━━━━━━━━━━━━━━━━━━━━\u001b[0m\u001b[37m\u001b[0m \u001b[1m0s\u001b[0m 536us/step - loss: 2.2808 - mae: 1.1968 - root_mean_squared_error: 1.5095 - val_loss: 1.0064 - val_mae: 0.8980 - val_root_mean_squared_error: 1.0032\n",
      "Epoch 20/50\n",
      "\u001b[1m188/188\u001b[0m \u001b[32m━━━━━━━━━━━━━━━━━━━━\u001b[0m\u001b[37m\u001b[0m \u001b[1m0s\u001b[0m 622us/step - loss: 1.9212 - mae: 1.0802 - root_mean_squared_error: 1.3858 - val_loss: 0.7460 - val_mae: 0.7505 - val_root_mean_squared_error: 0.8637\n",
      "Epoch 21/50\n",
      "\u001b[1m188/188\u001b[0m \u001b[32m━━━━━━━━━━━━━━━━━━━━\u001b[0m\u001b[37m\u001b[0m \u001b[1m0s\u001b[0m 611us/step - loss: 1.6427 - mae: 0.9789 - root_mean_squared_error: 1.2816 - val_loss: 0.5702 - val_mae: 0.6326 - val_root_mean_squared_error: 0.7551\n",
      "Epoch 22/50\n",
      "\u001b[1m188/188\u001b[0m \u001b[32m━━━━━━━━━━━━━━━━━━━━\u001b[0m\u001b[37m\u001b[0m \u001b[1m0s\u001b[0m 608us/step - loss: 1.5587 - mae: 0.9459 - root_mean_squared_error: 1.2482 - val_loss: 0.4570 - val_mae: 0.5533 - val_root_mean_squared_error: 0.6760\n",
      "Epoch 23/50\n",
      "\u001b[1m188/188\u001b[0m \u001b[32m━━━━━━━━━━━━━━━━━━━━\u001b[0m\u001b[37m\u001b[0m \u001b[1m0s\u001b[0m 546us/step - loss: 1.4067 - mae: 0.9023 - root_mean_squared_error: 1.1855 - val_loss: 0.3625 - val_mae: 0.4807 - val_root_mean_squared_error: 0.6021\n",
      "Epoch 24/50\n",
      "\u001b[1m188/188\u001b[0m \u001b[32m━━━━━━━━━━━━━━━━━━━━\u001b[0m\u001b[37m\u001b[0m \u001b[1m0s\u001b[0m 615us/step - loss: 1.2978 - mae: 0.8605 - root_mean_squared_error: 1.1389 - val_loss: 0.2871 - val_mae: 0.4160 - val_root_mean_squared_error: 0.5358\n",
      "Epoch 25/50\n",
      "\u001b[1m188/188\u001b[0m \u001b[32m━━━━━━━━━━━━━━━━━━━━\u001b[0m\u001b[37m\u001b[0m \u001b[1m0s\u001b[0m 630us/step - loss: 1.2156 - mae: 0.8332 - root_mean_squared_error: 1.1024 - val_loss: 0.2529 - val_mae: 0.3862 - val_root_mean_squared_error: 0.5029\n",
      "Epoch 26/50\n",
      "\u001b[1m188/188\u001b[0m \u001b[32m━━━━━━━━━━━━━━━━━━━━\u001b[0m\u001b[37m\u001b[0m \u001b[1m0s\u001b[0m 553us/step - loss: 1.2294 - mae: 0.8423 - root_mean_squared_error: 1.1086 - val_loss: 0.2296 - val_mae: 0.3659 - val_root_mean_squared_error: 0.4791\n",
      "Epoch 27/50\n",
      "\u001b[1m188/188\u001b[0m \u001b[32m━━━━━━━━━━━━━━━━━━━━\u001b[0m\u001b[37m\u001b[0m \u001b[1m0s\u001b[0m 501us/step - loss: 1.2351 - mae: 0.8455 - root_mean_squared_error: 1.1112 - val_loss: 0.2103 - val_mae: 0.3489 - val_root_mean_squared_error: 0.4585\n",
      "Epoch 28/50\n",
      "\u001b[1m188/188\u001b[0m \u001b[32m━━━━━━━━━━━━━━━━━━━━\u001b[0m\u001b[37m\u001b[0m \u001b[1m0s\u001b[0m 592us/step - loss: 1.1548 - mae: 0.8152 - root_mean_squared_error: 1.0741 - val_loss: 0.1951 - val_mae: 0.3327 - val_root_mean_squared_error: 0.4417\n",
      "Epoch 29/50\n",
      "\u001b[1m188/188\u001b[0m \u001b[32m━━━━━━━━━━━━━━━━━━━━\u001b[0m\u001b[37m\u001b[0m \u001b[1m0s\u001b[0m 536us/step - loss: 1.1089 - mae: 0.8117 - root_mean_squared_error: 1.0528 - val_loss: 0.1969 - val_mae: 0.3358 - val_root_mean_squared_error: 0.4437\n",
      "Epoch 30/50\n",
      "\u001b[1m188/188\u001b[0m \u001b[32m━━━━━━━━━━━━━━━━━━━━\u001b[0m\u001b[37m\u001b[0m \u001b[1m0s\u001b[0m 516us/step - loss: 1.0951 - mae: 0.8018 - root_mean_squared_error: 1.0464 - val_loss: 0.1902 - val_mae: 0.3296 - val_root_mean_squared_error: 0.4361\n",
      "Epoch 31/50\n",
      "\u001b[1m188/188\u001b[0m \u001b[32m━━━━━━━━━━━━━━━━━━━━\u001b[0m\u001b[37m\u001b[0m \u001b[1m0s\u001b[0m 535us/step - loss: 1.0820 - mae: 0.7953 - root_mean_squared_error: 1.0401 - val_loss: 0.1854 - val_mae: 0.3245 - val_root_mean_squared_error: 0.4306\n",
      "Epoch 32/50\n",
      "\u001b[1m188/188\u001b[0m \u001b[32m━━━━━━━━━━━━━━━━━━━━\u001b[0m\u001b[37m\u001b[0m \u001b[1m0s\u001b[0m 501us/step - loss: 1.0416 - mae: 0.7813 - root_mean_squared_error: 1.0205 - val_loss: 0.1818 - val_mae: 0.3205 - val_root_mean_squared_error: 0.4263\n",
      "Epoch 33/50\n",
      "\u001b[1m188/188\u001b[0m \u001b[32m━━━━━━━━━━━━━━━━━━━━\u001b[0m\u001b[37m\u001b[0m \u001b[1m0s\u001b[0m 500us/step - loss: 1.0335 - mae: 0.7772 - root_mean_squared_error: 1.0166 - val_loss: 0.1769 - val_mae: 0.3162 - val_root_mean_squared_error: 0.4206\n",
      "Epoch 34/50\n",
      "\u001b[1m188/188\u001b[0m \u001b[32m━━━━━━━━━━━━━━━━━━━━\u001b[0m\u001b[37m\u001b[0m \u001b[1m0s\u001b[0m 481us/step - loss: 1.0052 - mae: 0.7665 - root_mean_squared_error: 1.0019 - val_loss: 0.1755 - val_mae: 0.3156 - val_root_mean_squared_error: 0.4189\n",
      "Epoch 35/50\n",
      "\u001b[1m188/188\u001b[0m \u001b[32m━━━━━━━━━━━━━━━━━━━━\u001b[0m\u001b[37m\u001b[0m \u001b[1m0s\u001b[0m 602us/step - loss: 0.9771 - mae: 0.7597 - root_mean_squared_error: 0.9884 - val_loss: 0.1748 - val_mae: 0.3140 - val_root_mean_squared_error: 0.4181\n",
      "Epoch 36/50\n",
      "\u001b[1m188/188\u001b[0m \u001b[32m━━━━━━━━━━━━━━━━━━━━\u001b[0m\u001b[37m\u001b[0m \u001b[1m0s\u001b[0m 536us/step - loss: 1.0200 - mae: 0.7772 - root_mean_squared_error: 1.0098 - val_loss: 0.1766 - val_mae: 0.3156 - val_root_mean_squared_error: 0.4203\n",
      "Epoch 37/50\n",
      "\u001b[1m188/188\u001b[0m \u001b[32m━━━━━━━━━━━━━━━━━━━━\u001b[0m\u001b[37m\u001b[0m \u001b[1m0s\u001b[0m 564us/step - loss: 0.9338 - mae: 0.7427 - root_mean_squared_error: 0.9663 - val_loss: 0.1736 - val_mae: 0.3131 - val_root_mean_squared_error: 0.4166\n",
      "Epoch 38/50\n",
      "\u001b[1m188/188\u001b[0m \u001b[32m━━━━━━━━━━━━━━━━━━━━\u001b[0m\u001b[37m\u001b[0m \u001b[1m0s\u001b[0m 572us/step - loss: 0.9280 - mae: 0.7320 - root_mean_squared_error: 0.9632 - val_loss: 0.1732 - val_mae: 0.3129 - val_root_mean_squared_error: 0.4162\n",
      "Epoch 39/50\n",
      "\u001b[1m188/188\u001b[0m \u001b[32m━━━━━━━━━━━━━━━━━━━━\u001b[0m\u001b[37m\u001b[0m \u001b[1m0s\u001b[0m 581us/step - loss: 0.8741 - mae: 0.7229 - root_mean_squared_error: 0.9348 - val_loss: 0.1689 - val_mae: 0.3090 - val_root_mean_squared_error: 0.4110\n",
      "Epoch 40/50\n",
      "\u001b[1m188/188\u001b[0m \u001b[32m━━━━━━━━━━━━━━━━━━━━\u001b[0m\u001b[37m\u001b[0m \u001b[1m0s\u001b[0m 598us/step - loss: 0.8842 - mae: 0.7192 - root_mean_squared_error: 0.9399 - val_loss: 0.1675 - val_mae: 0.3073 - val_root_mean_squared_error: 0.4092\n",
      "Epoch 41/50\n",
      "\u001b[1m188/188\u001b[0m \u001b[32m━━━━━━━━━━━━━━━━━━━━\u001b[0m\u001b[37m\u001b[0m \u001b[1m0s\u001b[0m 585us/step - loss: 0.8430 - mae: 0.7073 - root_mean_squared_error: 0.9180 - val_loss: 0.1683 - val_mae: 0.3079 - val_root_mean_squared_error: 0.4102\n",
      "Epoch 42/50\n",
      "\u001b[1m188/188\u001b[0m \u001b[32m━━━━━━━━━━━━━━━━━━━━\u001b[0m\u001b[37m\u001b[0m \u001b[1m0s\u001b[0m 582us/step - loss: 0.8273 - mae: 0.6996 - root_mean_squared_error: 0.9095 - val_loss: 0.1676 - val_mae: 0.3072 - val_root_mean_squared_error: 0.4094\n",
      "Epoch 43/50\n",
      "\u001b[1m188/188\u001b[0m \u001b[32m━━━━━━━━━━━━━━━━━━━━\u001b[0m\u001b[37m\u001b[0m \u001b[1m0s\u001b[0m 573us/step - loss: 0.8167 - mae: 0.6932 - root_mean_squared_error: 0.9036 - val_loss: 0.1668 - val_mae: 0.3067 - val_root_mean_squared_error: 0.4084\n",
      "Epoch 44/50\n",
      "\u001b[1m188/188\u001b[0m \u001b[32m━━━━━━━━━━━━━━━━━━━━\u001b[0m\u001b[37m\u001b[0m \u001b[1m0s\u001b[0m 553us/step - loss: 0.8167 - mae: 0.6883 - root_mean_squared_error: 0.9035 - val_loss: 0.1657 - val_mae: 0.3057 - val_root_mean_squared_error: 0.4070\n",
      "Epoch 45/50\n",
      "\u001b[1m188/188\u001b[0m \u001b[32m━━━━━━━━━━━━━━━━━━━━\u001b[0m\u001b[37m\u001b[0m \u001b[1m0s\u001b[0m 491us/step - loss: 0.7880 - mae: 0.6873 - root_mean_squared_error: 0.8876 - val_loss: 0.1661 - val_mae: 0.3060 - val_root_mean_squared_error: 0.4076\n",
      "Epoch 46/50\n",
      "\u001b[1m188/188\u001b[0m \u001b[32m━━━━━━━━━━━━━━━━━━━━\u001b[0m\u001b[37m\u001b[0m \u001b[1m0s\u001b[0m 513us/step - loss: 0.8105 - mae: 0.6907 - root_mean_squared_error: 0.9001 - val_loss: 0.1664 - val_mae: 0.3065 - val_root_mean_squared_error: 0.4080\n",
      "Epoch 47/50\n",
      "\u001b[1m188/188\u001b[0m \u001b[32m━━━━━━━━━━━━━━━━━━━━\u001b[0m\u001b[37m\u001b[0m \u001b[1m0s\u001b[0m 569us/step - loss: 0.7767 - mae: 0.6768 - root_mean_squared_error: 0.8812 - val_loss: 0.1645 - val_mae: 0.3046 - val_root_mean_squared_error: 0.4055\n",
      "Epoch 48/50\n",
      "\u001b[1m188/188\u001b[0m \u001b[32m━━━━━━━━━━━━━━━━━━━━\u001b[0m\u001b[37m\u001b[0m \u001b[1m0s\u001b[0m 620us/step - loss: 0.7930 - mae: 0.6837 - root_mean_squared_error: 0.8905 - val_loss: 0.1653 - val_mae: 0.3052 - val_root_mean_squared_error: 0.4066\n",
      "Epoch 49/50\n",
      "\u001b[1m188/188\u001b[0m \u001b[32m━━━━━━━━━━━━━━━━━━━━\u001b[0m\u001b[37m\u001b[0m \u001b[1m0s\u001b[0m 565us/step - loss: 0.7746 - mae: 0.6732 - root_mean_squared_error: 0.8801 - val_loss: 0.1642 - val_mae: 0.3048 - val_root_mean_squared_error: 0.4053\n",
      "Epoch 50/50\n",
      "\u001b[1m188/188\u001b[0m \u001b[32m━━━━━━━━━━━━━━━━━━━━\u001b[0m\u001b[37m\u001b[0m \u001b[1m0s\u001b[0m 577us/step - loss: 0.7705 - mae: 0.6751 - root_mean_squared_error: 0.8777 - val_loss: 0.1644 - val_mae: 0.3042 - val_root_mean_squared_error: 0.4054\n"
     ]
    }
   ],
   "source": [
    "# set up grid search:\n",
    "for layer in num_hidden_layers:\n",
    "    for neurons in num_hidden_neurons:\n",
    "        for epochs in num_epochs:\n",
    "            for rate in learning_rates:\n",
    "                for function in activation_functions:\n",
    "                    for batch in batch_sizes:\n",
    "\n",
    "                        # make directory to save into:\n",
    "                        output_dir = os.path.join(os.getcwd(), f\"ann_search_results/{str(layer)}_{str(neurons)}_{str(epochs)}_{str(rate)}_{str(function)}_{str(batch)}\")\n",
    "                        os.makedirs(output_dir, exist_ok = True)\n",
    "\n",
    "                        # build a model:\n",
    "                        tf.keras.backend.clear_session()\n",
    "                        model = make_model(layer, neurons, rate, True, True, function)\n",
    "\n",
    "                        # save training parameters into a dictionary:\n",
    "                        training_params = {\n",
    "                            'num_layers' : layer,\n",
    "                            'num_neurons' : neurons,\n",
    "                            'num_epochs' : epochs,\n",
    "                            'learning_rate' : rate,\n",
    "                            'activation_function' : function,\n",
    "                            'use_batch_norm' : True,\n",
    "                            'use_dropout' : True,\n",
    "                            'batch_size' :  batch\n",
    "                        }\n",
    "\n",
    "                        # train model:\n",
    "                        train_start = time.time()\n",
    "                        history = model.fit(x_train, y_train, \n",
    "                                            epochs = epochs,\n",
    "                                            batch_size = batch,\n",
    "                                            validation_data = [x_val, y_val]\n",
    "                                            )\n",
    "                        train_time = time.time() - train_start\n",
    "\n",
    "                        # store training results:\n",
    "                        training_results = {}\n",
    "                        for i in history.history.keys():\n",
    "                            training_results[i] = history.history[i][-1]\n",
    "                        training_results['train_time'] = train_time\n",
    "\n",
    "                        # save both results to a directory:\n",
    "                        params_path = os.path.join(output_dir, \"params_results.json\")\n",
    "                        with open(params_path, \"w\") as f:\n",
    "                            json.dump({'parameters': training_params, 'results': training_results}, f, indent = 4)\n"
   ]
  }
 ],
 "metadata": {
  "kernelspec": {
   "display_name": "Python 3",
   "language": "python",
   "name": "python3"
  },
  "language_info": {
   "codemirror_mode": {
    "name": "ipython",
    "version": 3
   },
   "file_extension": ".py",
   "mimetype": "text/x-python",
   "name": "python",
   "nbconvert_exporter": "python",
   "pygments_lexer": "ipython3",
   "version": "3.12.5"
  }
 },
 "nbformat": 4,
 "nbformat_minor": 2
}
