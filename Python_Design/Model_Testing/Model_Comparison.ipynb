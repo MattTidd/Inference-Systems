{
 "cells": [
  {
   "cell_type": "markdown",
   "metadata": {},
   "source": [
    "# **Introduction:**\n",
    "\n",
    "This file serves to compare the inference systems that had been developed.\n",
    "\n",
    "**Date Created: 16/2/2025**\n",
    "\n",
    "**Date Modified: 16/2/2025**"
   ]
  },
  {
   "cell_type": "markdown",
   "metadata": {},
   "source": [
    "# **Import Packages:**\n",
    "\n",
    "This section imports the necessary packages."
   ]
  },
  {
   "cell_type": "code",
   "execution_count": 54,
   "metadata": {},
   "outputs": [],
   "source": [
    "# import packages:\n",
    "import numpy as np\n",
    "import time\n",
    "from keras.models import load_model\n",
    "import tensorflow as tf\n",
    "from tensorflow.keras.losses import MeanSquaredError\n",
    "from sklearn.preprocessing import StandardScaler\n",
    "from pickle import load\n",
    "from ANFIS_Custom_Layers import *\n",
    "from PythonFISFunctionV3 import *\n"
   ]
  },
  {
   "cell_type": "markdown",
   "metadata": {},
   "source": [
    "# **Create FIS:**\n",
    "\n",
    "This section creates the FIS."
   ]
  },
  {
   "cell_type": "code",
   "execution_count": 55,
   "metadata": {},
   "outputs": [],
   "source": [
    "rulebase = fis_create()"
   ]
  },
  {
   "cell_type": "markdown",
   "metadata": {},
   "source": [
    "# **Load the ANFIS Model:**\n",
    "\n",
    "This section loads the ANFIS model and the scaler."
   ]
  },
  {
   "cell_type": "code",
   "execution_count": 56,
   "metadata": {},
   "outputs": [
    {
     "name": "stderr",
     "output_type": "stream",
     "text": [
      "WARNING:absl:Compiled the loaded model, but the compiled metrics have yet to be built. `model.compile_metrics` will be empty until you train or evaluate the model.\n"
     ]
    },
    {
     "name": "stdout",
     "output_type": "stream",
     "text": [
      "\n",
      "shape is: (4, 3)\n",
      "\n",
      "\u001b[1m1/1\u001b[0m \u001b[32m━━━━━━━━━━━━━━━━━━━━\u001b[0m\u001b[37m\u001b[0m \u001b[1m3s\u001b[0m 3s/step\n"
     ]
    },
    {
     "data": {
      "text/plain": [
       "array([[9.028122],\n",
       "       [9.028122],\n",
       "       [9.028122],\n",
       "       [9.028122]], dtype=float32)"
      ]
     },
     "execution_count": 56,
     "metadata": {},
     "output_type": "execute_result"
    }
   ],
   "source": [
    "# define the dictionary of custom objects:\n",
    "custom_objects = {\n",
    "    # # layers:\n",
    "    'MF_Layer'          : MF_Layer,\n",
    "    'FS_Layer'          : FS_Layer,\n",
    "    'NM_Layer'          : NM_Layer,\n",
    "    'CN_Layer'          : CN_Layer,\n",
    "    'O_Layer'           : O_Layer,\n",
    "\n",
    "    # other:\n",
    "    'OrderedConstraint' : OrderedConstraint(),\n",
    "    'mse'               : MeanSquaredError()\n",
    "}\n",
    "\n",
    "# load the model:\n",
    "model = load_model('anfis_model.h5', custom_objects = custom_objects)\n",
    "model.compile(optimizer=\"adam\", loss=\"mse\") \n",
    "\n",
    "# load the scaler:\n",
    "scaler = load(open('scaler.pkl', 'rb'))\n",
    "\n",
    "# warmup the model:\n",
    "batch_size = 4  \n",
    "dummy_input = np.zeros((batch_size, 3), dtype=np.float32)  \n",
    "dummy_input = scaler.transform(dummy_input)\n",
    "\n",
    "print(f'\\nshape is: {dummy_input.shape}\\n')\n",
    "model.predict(dummy_input)"
   ]
  },
  {
   "cell_type": "markdown",
   "metadata": {},
   "source": [
    "# **Test the Models:**\n",
    "\n",
    "This section tests the models against one another on the same input dataset"
   ]
  },
  {
   "cell_type": "code",
   "execution_count": 57,
   "metadata": {},
   "outputs": [
    {
     "name": "stdout",
     "output_type": "stream",
     "text": [
      "\n",
      "shape is: (4, 3)\n",
      "\n"
     ]
    }
   ],
   "source": [
    "# define the input values:\n",
    "input_data = np.array([[2, 14.024, 34.047],\n",
    "                      [0, 35.213, 0], \n",
    "                      [1, 15.374, 18.783], \n",
    "                      [1, 14.620, 11.881]])\n",
    "\n",
    "# scale the input using the scaler:\n",
    "scaled_input = scaler.transform(input_data)\n",
    "print(f'\\nshape is: {scaled_input.shape}\\n')"
   ]
  },
  {
   "cell_type": "markdown",
   "metadata": {},
   "source": [
    "Test the FIS:"
   ]
  },
  {
   "cell_type": "code",
   "execution_count": 58,
   "metadata": {},
   "outputs": [
    {
     "name": "stdout",
     "output_type": "stream",
     "text": [
      "inference time of the FIS: 0.62\n",
      "[np.float64(4.112042796178686), np.float64(5.0), np.float64(5.5333160818597635), np.float64(6.322235972052975)]\n"
     ]
    }
   ],
   "source": [
    "# get the start time:\n",
    "fis_start_time = time.time()\n",
    "suitability = []\n",
    "\n",
    "# suitability calculation:\n",
    "for a,b,c in input_data:\n",
    "    suit = fis_solve(rulebase, a, b, c)\n",
    "    suitability.append(suit)\n",
    "\n",
    "# final time:\n",
    "fis_time = time.time() - fis_start_time\n",
    "print(f'inference time of the FIS: {round(fis_time, 3)}')\n",
    "print(suitability)\n"
   ]
  },
  {
   "cell_type": "markdown",
   "metadata": {},
   "source": [
    "Test the ANFIS:"
   ]
  },
  {
   "cell_type": "code",
   "execution_count": 59,
   "metadata": {},
   "outputs": [
    {
     "name": "stdout",
     "output_type": "stream",
     "text": [
      "\u001b[1m1/1\u001b[0m \u001b[32m━━━━━━━━━━━━━━━━━━━━\u001b[0m\u001b[37m\u001b[0m \u001b[1m0s\u001b[0m 24ms/step\n",
      "inference time of the ANFIS: 0.063\n",
      "[[4.3295665]\n",
      " [4.7907586]\n",
      " [5.3551536]\n",
      " [5.9129276]]\n"
     ]
    }
   ],
   "source": [
    "# get the start time:\n",
    "anfis_start_time = time.time()\n",
    "\n",
    "# suitability calculation:\n",
    "prediction = model.predict(scaled_input)\n",
    "\n",
    "# final time:\n",
    "anfis_time = time.time() - anfis_start_time\n",
    "print(f'inference time of the ANFIS: {round(anfis_time, 3)}')\n",
    "print(prediction)"
   ]
  }
 ],
 "metadata": {
  "kernelspec": {
   "display_name": "Python 3",
   "language": "python",
   "name": "python3"
  },
  "language_info": {
   "codemirror_mode": {
    "name": "ipython",
    "version": 3
   },
   "file_extension": ".py",
   "mimetype": "text/x-python",
   "name": "python",
   "nbconvert_exporter": "python",
   "pygments_lexer": "ipython3",
   "version": "3.12.5"
  }
 },
 "nbformat": 4,
 "nbformat_minor": 2
}
