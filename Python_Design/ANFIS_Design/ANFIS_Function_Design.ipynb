{
 "cells": [
  {
   "cell_type": "markdown",
   "metadata": {},
   "source": [
    "# **Introduction:**\n",
    "\n",
    "This file serves to design and test a custom implementation of an Adaptive Neuro-Fuzzy Inference System (ANFIS). This will be trained and evaluated against the ANN designed previously. \n",
    "\n",
    "This ANFIS takes the load history, the distance to the task, and the total distance travelled thus far and performs inference about the suitability of a given robot for a task at hand. \n",
    "\n",
    "**Date Created:** 13/01/2025\n",
    "\n",
    "**Date Modified:** 14/01/2025"
   ]
  },
  {
   "cell_type": "markdown",
   "metadata": {},
   "source": [
    "# **Import Packages:** \n",
    "\n",
    "This section imports all the necessary packages for the ANFIS implementation. "
   ]
  },
  {
   "cell_type": "code",
   "execution_count": 299,
   "metadata": {},
   "outputs": [],
   "source": [
    "# import packages:\n",
    "import numpy as np\n",
    "import tensorflow as tf\n",
    "import pandas as pd\n",
    "from sklearn.model_selection import train_test_split\n",
    "from sklearn.preprocessing import StandardScaler\n",
    "import matplotlib.pyplot as plt\n",
    "from itertools import product"
   ]
  },
  {
   "cell_type": "markdown",
   "metadata": {},
   "source": [
    "# **Layer Function & Class Definitions:**\n",
    "\n",
    "Need to define the membership function to be used first:"
   ]
  },
  {
   "cell_type": "code",
   "execution_count": 300,
   "metadata": {},
   "outputs": [],
   "source": [
    "# triangular membership function:\n",
    "def triangular_mf(x, params):\n",
    "    a, b, c = params\n",
    "    y = np.zeros_like(x, dtype=float)  # initialize output array\n",
    "\n",
    "    # define membership function rules using numpy indexing\n",
    "    mask1 = (x > a) & (x < b)  # rising edge of the triangle\n",
    "    mask2 = (x >= b) & (x < c)  # falling edge of the triangle\n",
    "\n",
    "    y[mask1] = (x[mask1] - a) / (b - a)\n",
    "    y[mask2] = (c - x[mask2]) / (c - b)\n",
    "\n",
    "    return y"
   ]
  },
  {
   "cell_type": "markdown",
   "metadata": {},
   "source": [
    "Now need to define the ANFIS class:"
   ]
  },
  {
   "cell_type": "code",
   "execution_count": 301,
   "metadata": {},
   "outputs": [],
   "source": [
    "class ANFIS:\n",
    "    # object constructor:\n",
    "    def __init__(self, num_inputs, num_mfs, params = None):\n",
    "        # need to instantiate the object:\n",
    "        self.num_inputs = num_inputs\n",
    "        self.num_mfs = num_mfs\n",
    "        self.num_rules = num_mfs ** num_inputs\n",
    "        self.memberships = {}\n",
    "        self.consequents = {}\n",
    "\n",
    "        # must first assign the antecedent parameters:\n",
    "        # if custom:\n",
    "        if params is not None:\n",
    "            for j in range(self.num_inputs):\n",
    "                for i in range(self.num_mfs):\n",
    "                    self.memberships[f'membership_{j+1}_{i+1}'] = params[j, i, :]\n",
    "            print('params set to other than None')\n",
    "        # if not custom, randomly initialize them:\n",
    "        else:\n",
    "            for j in range(self.num_inputs):\n",
    "                for i in range(self.num_mfs):\n",
    "                    a = np.random.uniform(low = -1.0, high = 1.0)\n",
    "                    b = np.random.uniform(low = -1.0, high = 1.0)\n",
    "                    c = np.random.uniform(low = -1.0, high = 1.0)\n",
    "\n",
    "                    params = np.array([a, b, c])\n",
    "                    self.memberships[f'membership_{j+1}_{i+1}'] = params\n",
    "\n",
    "        # now must assign the consequent parameters:\n",
    "        for rule_index in range(1, self.num_rules + 1):\n",
    "            params = np.random.uniform(low = -1.0, high = 1.0, size = self.num_inputs + 1)\n",
    "            self.consequents[f'rule_{rule_index}_params'] = params\n",
    "\n",
    "        print('model created!')\n",
    "\n",
    "    # this is a plotting function to verify that the membership functions are correct:\n",
    "    def plot_membership_functions(self, max_values, mf_names = None):\n",
    "        # if the user does not provide names:\n",
    "        if mf_names is None:\n",
    "            mf_names = [f'MF {i + 1}' for i in range(self.num_mfs)]\n",
    "\n",
    "        # make sure that the number of names matches the number of membership functions:\n",
    "        if len(mf_names) != self.num_mfs:\n",
    "            raise ValueError(f'Expected {self.num_mfs} membership functions, but got {len(mf_names)}')\n",
    "\n",
    "        # make sure that the number of provided max values matches the number of input functions:\n",
    "        if len(max_values) != self.num_inputs:\n",
    "            raise ValueError(f'Expected {self.num_inputs} max values, but got {len(max_values)}')\n",
    "        \n",
    "        # if matching, create a linspace based on the max values:\n",
    "        input_ranges = {}\n",
    "        for i in range(self.num_inputs):\n",
    "            input_ranges[i] = np.linspace(0, max_values[i], 1000)\n",
    "\n",
    "        # plot mfs for each input:\n",
    "        for input_index in range(self.num_inputs):\n",
    "            x_values = input_ranges[input_index]\n",
    "            plt.figure(figsize=(12, 8))\n",
    "\n",
    "            # plot each mfs for the selected input:\n",
    "            for i in range(self.num_mfs):\n",
    "                params = self.memberships[f'membership_{input_index + 1}_{i + 1}']\n",
    "                y_values = [triangular_mf(x, params) for x in x_values]\n",
    "                plt.plot(x_values, y_values, label = f'{mf_names[i]}')\n",
    "        \n",
    "                plt.title(f'Membership Functions for Input X{input_index + 1}')\n",
    "                plt.xlabel('Input Value')\n",
    "                plt.ylabel('Degree of Membership')\n",
    "                plt.legend()\n",
    "                plt.grid(True)\n",
    "        plt.show()\n",
    "    \n",
    "    # this is the first layer within the anfis, the membership layer:\n",
    "    def membership_layer(self, inputs):\n",
    "        \"\"\"\n",
    "        inputs: np.ndarray of shape (batch_size, num_inputs)\n",
    "        returns: dict with membership values for the entire batch\n",
    "\n",
    "        \"\"\"\n",
    "\n",
    "        membership_values = {}\n",
    "        batch_size = inputs.shape[0]\n",
    "        # for every input j:\n",
    "        for j in range(self.num_inputs):\n",
    "            # for every membership function for that input:\n",
    "            for i in range(self.num_mfs):\n",
    "                params = self.memberships[f'membership_{j+1}_{i+1}']\n",
    "                membership_values[f'membership_{j+1}_{i+1}'] = triangular_mf(inputs[:,j], params)\n",
    "        \n",
    "        return membership_values\n",
    "    \n",
    "    # this is the second layer within the anfis, the firing strength layer:\n",
    "    def firing_strength_layer(self, membership_values):\n",
    "        \"\"\"\n",
    "        membership_values: dict of membership values for the batch\n",
    "        returns: np.ndarry of shape (batch_size, num_rules)\n",
    "\n",
    "        \"\"\"\n",
    "\n",
    "        batch_size = next(iter(membership_values.values())).shape[0]  # Get batch size from membership values\n",
    "        firing_strengths = np.ones((batch_size, self.num_rules))  # Initialize with ones for multiplication\n",
    "\n",
    "        # Generate rule combinations\n",
    "        rules = list(product(range(self.num_mfs), repeat=self.num_inputs))  # All rule combinations\n",
    "\n",
    "        for rule_index, combination in enumerate(rules):\n",
    "            for input_index, mf_index in enumerate(combination):\n",
    "                key = f'membership_{input_index + 1}_{mf_index + 1}'\n",
    "                firing_strengths[:, rule_index] *= membership_values[key]\n",
    "\n",
    "        return firing_strengths\n",
    "   \n",
    "    # this is the third layer within the anfis, the normalization layer:\n",
    "    def normalization_layer(self, firing_strengths):\n",
    "        \"\"\"\n",
    "        firing_strengths: np.ndarray of shape (batch_size, num_rules)\n",
    "        returns: np.ndarray of shape (batch_size, num_rules)\n",
    "        \"\"\"\n",
    "\n",
    "        total_strength = np.sum(firing_strengths, axis = 1, keepdims = True)\n",
    "        normalized_firing_strengths = firing_strengths / total_strength\n",
    "\n",
    "        return normalized_firing_strengths\n",
    "    \n",
    "    # this is the fourth layer within the anfis, the rule consequent layer:\n",
    "    def consequent_layer(self, normalized_firing_strengths, inputs):\n",
    "        \"\"\"\n",
    "        normalized_firing_strengths: np.ndarray of shape (batch_size, num_rules)\n",
    "        inputs: np.ndarray of shape (batch_size, num_inputs)\n",
    "        returns: np.ndarray of shape (batch_size, num_rules)\n",
    "\n",
    "        \"\"\"\n",
    "        batch_size = inputs.shape[0]\n",
    "        consequents = np.zeros((batch_size, self.num_rules))\n",
    "\n",
    "        for rule_index in range(1, self.num_rules + 1):\n",
    "            params = self.consequents[f'rule_{rule_index}_params']\n",
    "            # compute the consequent output for the entire batch\n",
    "            consequents[:, rule_index - 1] = normalized_firing_strengths[:, rule_index - 1] * (\n",
    "                np.dot(inputs, params[:-1]) + params[-1]\n",
    "            )\n",
    "\n",
    "        return consequents\n",
    "\n",
    "    # this is the fifth layer within the anfis, the output layer:\n",
    "    def output_layer(self, consequents):\n",
    "        \"\"\"\n",
    "        consequents: np.ndarray of shape (batch_size, num_rules)\n",
    "        returns: np.ndarray of shape (batch_size,)\n",
    "\n",
    "        \"\"\"\n",
    "        return np.sum(consequents, axis=1)\n",
    "\n",
    "    # all together, the forward pass through the network is given by:\n",
    "    def forward_pass(self, inputs):\n",
    "        # need to first pass inputs through the first layer to fuzzify them:\n",
    "        fuzzified = self.membership_layer(inputs)\n",
    "\n",
    "        # now we calculate the firing strength of each rule:\n",
    "        firing_strengths = self.firing_strength_layer(fuzzified)\n",
    "\n",
    "        # now we normalize these firing strengths:\n",
    "        normalized_firing_strengths = self.normalization_layer(firing_strengths)\n",
    "\n",
    "        # determine the rule consequents:\n",
    "        consequents = self.consequent_layer(normalized_firing_strengths, inputs)\n",
    "\n",
    "        # overall network output:\n",
    "        output = self.output_layer(consequents)\n",
    "\n",
    "        # return to user:\n",
    "        return output\n",
    "    "
   ]
  },
  {
   "cell_type": "markdown",
   "metadata": {},
   "source": [
    "# **Importing the Training Data:**\n",
    "\n",
    "With the model now defined, we can now load and split the data accordingly."
   ]
  },
  {
   "cell_type": "code",
   "execution_count": 302,
   "metadata": {},
   "outputs": [],
   "source": [
    "# load the training data:\n",
    "data = pd.read_csv('V3_Data.csv')\n",
    "\n",
    "# split into X and Y:\n",
    "x_data = data.drop('Suitability', axis = 1)\n",
    "y_data = data['Suitability']\n",
    "\n",
    "# split into training, validation, and testing:\n",
    "x_train, x_filler, y_train, y_filler = train_test_split(x_data, y_data, test_size = 0.2)\n",
    "x_val, x_test, y_val,  y_test = train_test_split(x_filler, y_filler, test_size = 0.5)"
   ]
  },
  {
   "cell_type": "markdown",
   "metadata": {},
   "source": [
    "Pre-batch the data:"
   ]
  },
  {
   "cell_type": "code",
   "execution_count": 303,
   "metadata": {},
   "outputs": [],
   "source": [
    "batch_size = 32\n",
    "num_batches = len(x_train) // batch_size\n",
    "\n",
    "for batch_index in range(num_batches):\n",
    "    # get the batch of data\n",
    "    start = batch_index * batch_size\n",
    "    end = (batch_index + 1) * batch_size\n",
    "    x_batch = x_train[start:end]\n",
    "    y_batch = y_train[start:end]"
   ]
  },
  {
   "cell_type": "markdown",
   "metadata": {},
   "source": [
    "# **Using the Model:**\n",
    "\n",
    "With the data now prepared, we can instantiate and utilize the model."
   ]
  },
  {
   "cell_type": "markdown",
   "metadata": {},
   "source": [
    "Define model parameters:"
   ]
  },
  {
   "cell_type": "code",
   "execution_count": 304,
   "metadata": {},
   "outputs": [],
   "source": [
    "params = np.array([\n",
    "    [  # Parameters for input 1\n",
    "        [0, 0, 6],\n",
    "        [5/6, 5, 55/6],\n",
    "        [4, 10, 10]\n",
    "    ],\n",
    "    [  # Parameters for input 2\n",
    "        [0, 0 , 15],\n",
    "        [25/12, 12.5, 275/12],\n",
    "        [10, 25, 25]\n",
    "    ],\n",
    "    [  # Parameters for input 3\n",
    "        [0, 0, 30],\n",
    "        [25/6, 25, 275/6],\n",
    "        [15, 50, 50]\n",
    "    ]\n",
    "])\n",
    "\n",
    "max_values = np.array([10, 25, 50])"
   ]
  },
  {
   "cell_type": "markdown",
   "metadata": {},
   "source": [
    "Create the model:"
   ]
  },
  {
   "cell_type": "code",
   "execution_count": 305,
   "metadata": {},
   "outputs": [
    {
     "name": "stdout",
     "output_type": "stream",
     "text": [
      "params set to other than None\n",
      "model created!\n"
     ]
    }
   ],
   "source": [
    "model = ANFIS(num_inputs = 3, num_mfs = 3, params = params)\n",
    "inputs = np.array([[2, 11, 21], [6, 21, 48]])"
   ]
  }
 ],
 "metadata": {
  "kernelspec": {
   "display_name": "Python 3",
   "language": "python",
   "name": "python3"
  },
  "language_info": {
   "codemirror_mode": {
    "name": "ipython",
    "version": 3
   },
   "file_extension": ".py",
   "mimetype": "text/x-python",
   "name": "python",
   "nbconvert_exporter": "python",
   "pygments_lexer": "ipython3",
   "version": "3.12.5"
  }
 },
 "nbformat": 4,
 "nbformat_minor": 2
}
