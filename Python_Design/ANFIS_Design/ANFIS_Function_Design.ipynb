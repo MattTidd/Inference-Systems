{
 "cells": [
  {
   "cell_type": "markdown",
   "metadata": {},
   "source": [
    "# **Introduction:**\n",
    "\n",
    "This file serves to design and test a custom implementation of an Adaptive Neuro-Fuzzy Inference System (ANFIS) within Keras. It is hoped that this custom function is able to be used like a standard Keras model, and will be trained and evaluated against the ANN designed previously. \n",
    "\n",
    "This ANFIS takes the load history, the distance to the task, and the total distance travelled thus far and performs inference about the suitability of a given robot for a task at hand. \n",
    "\n",
    "**Date Created:** 13/01/2025\n",
    "\n",
    "**Date Modified:** 13/01/2025"
   ]
  },
  {
   "cell_type": "markdown",
   "metadata": {},
   "source": [
    "# **Import Packages:** \n",
    "\n",
    "This section imports all the necessary packages for the ANFIS implementation. "
   ]
  },
  {
   "cell_type": "code",
   "execution_count": 1,
   "metadata": {},
   "outputs": [],
   "source": [
    "# import packages:\n",
    "import numpy as np\n",
    "import tensorflow as tf\n",
    "from tensorflow.keras import layers, Sequential "
   ]
  },
  {
   "cell_type": "markdown",
   "metadata": {},
   "source": [
    "# **Function & Class Definitions:**\n",
    "\n",
    "Need to define numerous classes and functions for this implementation to work, as shown below. "
   ]
  },
  {
   "cell_type": "code",
   "execution_count": 2,
   "metadata": {},
   "outputs": [],
   "source": [
    "# define a function for triangular membership functions:\n",
    "def triangular_mf(x, a, b, c):\n",
    "    return tf.maximum(0.0, tf.minimum((x - a) / (b - a), (c - x) / (c - b)))\n",
    "\n",
    "# custom fuzzification layer:\n",
    "class FuzzificationLayer(layers.Layer):\n",
    "\n",
    "    # constructor to initialize objects:\n",
    "    def __init__(self, num_inputs, num_mfs):\n",
    "        super(FuzzificationLayer, self).__init__()  # initialize in the same manner as the parent\n",
    "        self.num_inputs = num_inputs                # assign the number of inputs\n",
    "        self.num_mfs = num_mfs                      # assign the number of membership functions\n",
    "\n",
    "        # create learnable mf parameters\n",
    "        self.mf_params = self.add_weight(           \n",
    "            shape = (num_inputs, num_mfs, 3),       # shape being num_inputs rows, num_mfs columns, and a depth of 3 for the 3 parameters in a triangular membership function\n",
    "            initializer = 'random_uniform',         # randomly, uniformly initialize the weights\n",
    "            trainable = True,                       # set to be trainable\n",
    "        )\n",
    "\n",
    "    # forward pass through layer given by:\n",
    "    def call(self, inputs):\n",
    "        mfs = []            # initialize empty list\n",
    "        for i in range(self.num_inputs):        # for each input x_i\n",
    "            mfs.append(                         # add the output to the mf list\n",
    "                tf.stack(\n",
    "                    # each input i across all instances is inputted, along with the parameters for the j-th membership function for the i-th input\n",
    "                    [triangular_mf(inputs[:,i], *self.mf_params[i, j]) for j in range(self.num_mfs)], axis = 1\n",
    "                )\n",
    "            )\n",
    "        return tf.concat(mfs, axis = 1) # return to user\n",
    "    \n",
    "# custom firing strength layer:\n",
    "class FiringStrengthLayer(layers.Layer):\n",
    "    def call(self, inputs):\n",
    "        rules = tf.reduce_prod(inputs, axis = 1, keepdims = True)\n",
    "        return rules\n",
    "    \n",
    "# custom normalization layer:\n",
    "class NormalizationLayer(layers.Layer):\n",
    "    def call(self, inputs):\n",
    "        return inputs / tf.reduce_sum(inputs, axis = 1, keepdims = True)\n",
    "    \n",
    "# custom consequent layer:\n",
    "class ConsequentLayer(layers.Layer):\n",
    "\n",
    "    # constructor to initialize objects:\n",
    "    def __init__(self, num_rules, num_inputs):\n",
    "        super(ConsequentLayer, self).__init__()     # initialize in the same manner as the parent\n",
    "        self.params = self.add_weight(              # takagi-sugeno consequent parameters\n",
    "            shape = (num_rules, num_inputs + 1),\n",
    "            initializer = 'random_uniform',\n",
    "            trainable = True\n",
    "        )\n",
    "\n",
    "    # forward pass through layer given by:\n",
    "    def call(self, inputs):\n",
    "        # add a bias term to the inputs:\n",
    "        bias = tf.ones((inputs.shape[0], 1))\n",
    "        extended_inputs = tf.concat([inputs, bias], axis = 1)\n",
    "        return tf.matmul(extended_inputs, self.params, transpose_b=True)\n",
    "    \n",
    "# custom output layer:\n",
    "class OutputLayer(layers.Layer):\n",
    "    def call(self, inputs):\n",
    "        return tf.reduce_sum(inputs, axis=1, keepdims=True)"
   ]
  },
  {
   "cell_type": "markdown",
   "metadata": {},
   "source": [
    "# **Define Testing Parameters:**\n",
    "\n",
    "This section defines the testing parameters, such as the number of inputs, the number of membership functions, and the expected number of rules. This section also defines a function for creating and compiling Keras models using the custom layers."
   ]
  },
  {
   "cell_type": "markdown",
   "metadata": {},
   "source": [
    "Testing Parameters:"
   ]
  },
  {
   "cell_type": "code",
   "execution_count": null,
   "metadata": {},
   "outputs": [],
   "source": [
    "# define parameters:\n",
    "num_inputs = 3\n",
    "num_mfs = 3\n",
    "num_rules = num_mfs ** num_inputs"
   ]
  },
  {
   "cell_type": "markdown",
   "metadata": {},
   "source": [
    "Model Generation Function:"
   ]
  },
  {
   "cell_type": "code",
   "execution_count": null,
   "metadata": {},
   "outputs": [],
   "source": [
    "# function to make models:\n",
    "def make_model(num_inputs, num_mfs, num_rules, rate):\n",
    "\n",
    "    # instantiate model:\n",
    "    model = Sequential()\n",
    "\n",
    "    # add fuzzification layer:\n",
    "    model.add"
   ]
  }
 ],
 "metadata": {
  "kernelspec": {
   "display_name": "Python 3",
   "language": "python",
   "name": "python3"
  },
  "language_info": {
   "codemirror_mode": {
    "name": "ipython",
    "version": 3
   },
   "file_extension": ".py",
   "mimetype": "text/x-python",
   "name": "python",
   "nbconvert_exporter": "python",
   "pygments_lexer": "ipython3",
   "version": "3.12.5"
  }
 },
 "nbformat": 4,
 "nbformat_minor": 2
}
