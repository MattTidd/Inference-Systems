{
 "cells": [
  {
   "cell_type": "markdown",
   "metadata": {},
   "source": [
    "# **Introduction:**\n",
    "\n",
    "This file serves to design and test a custom implementation of an Adaptive Neuro-Fuzzy Inference System (ANFIS). This will be trained and evaluated against the ANN designed previously. \n",
    "\n",
    "This ANFIS takes the load history, the distance to the task, and the total distance travelled thus far and performs inference about the suitability of a given robot for a task at hand. \n",
    "\n",
    "**Date Created:** 13/01/2025\n",
    "\n",
    "**Date Modified:** 14/01/2025"
   ]
  },
  {
   "cell_type": "markdown",
   "metadata": {},
   "source": [
    "# **Import Packages:** \n",
    "\n",
    "This section imports all the necessary packages for the ANFIS implementation. "
   ]
  },
  {
   "cell_type": "code",
   "execution_count": 31,
   "metadata": {},
   "outputs": [],
   "source": [
    "# import packages:\n",
    "import numpy as np\n",
    "import tensorflow as tf\n",
    "import pandas as pd\n",
    "from sklearn.model_selection import train_test_split\n",
    "import matplotlib.pyplot as plt\n",
    "from itertools import product"
   ]
  },
  {
   "cell_type": "markdown",
   "metadata": {},
   "source": [
    "# **Layer Function & Class Definitions:**\n",
    "\n",
    "Need to define the membership function to be used first:"
   ]
  },
  {
   "cell_type": "code",
   "execution_count": 32,
   "metadata": {},
   "outputs": [],
   "source": [
    "# triangular membership function:\n",
    "def triangular_mf(x, params):\n",
    "    a, b, c = params\n",
    "\n",
    "    if x <= a or x >= c:\n",
    "        return 0\n",
    "    elif a < x < b:\n",
    "        return (x - a) / (b - a)\n",
    "    elif b < x < c:\n",
    "        return (c - x) / (c - b)\n",
    "    elif x == b:\n",
    "        return 1\n",
    "    elif x == c:\n",
    "        return 1"
   ]
  },
  {
   "cell_type": "markdown",
   "metadata": {},
   "source": [
    "Now need to define the ANFIS class:"
   ]
  },
  {
   "cell_type": "code",
   "execution_count": 33,
   "metadata": {},
   "outputs": [],
   "source": [
    "class ANFIS:\n",
    "    # object constructor:\n",
    "    def __init__(self, num_inputs, num_mfs, params = None):\n",
    "        # need to instantiate the object:\n",
    "        self.num_inputs = num_inputs\n",
    "        self.num_mfs = num_mfs\n",
    "        self.num_rules = num_mfs ** num_inputs\n",
    "        self.memberships = {}\n",
    "        self.consequents = {}\n",
    "\n",
    "        # must first assign the antecedent parameters:\n",
    "        # if custom:\n",
    "        if params is not None:\n",
    "            for j in range(self.num_inputs):\n",
    "                for i in range(self.num_mfs):\n",
    "                    self.memberships[f'membership_{j+1}_{i+1}'] = params[j, i, :]\n",
    "            print('params set to other than None')\n",
    "        # if not custom, randomly initialize them:\n",
    "        else:\n",
    "            for j in range(self.num_inputs):\n",
    "                for i in range(self.num_mfs):\n",
    "                    a = np.random.uniform(low = -1.0, high = 1.0)\n",
    "                    b = np.random.uniform(low = -1.0, high = 1.0)\n",
    "                    c = np.random.uniform(low = -1.0, high = 1.0)\n",
    "\n",
    "                    params = np.array([a, b, c])\n",
    "                    self.memberships[f'membership_{j+1}_{i+1}'] = params\n",
    "\n",
    "        # now must assign the consequent parameters:\n",
    "        for rule_index in range(1, self.num_rules + 1):\n",
    "            p = np.random.uniform(low = -1.0, high = 1.0)\n",
    "            q = np.random.uniform(low = -1.0, high = 1.0)\n",
    "            r = np.random.uniform(low = -1.0, high = 1.0)\n",
    "            s = np.random.uniform(low = -1.0, high = 1.0)\n",
    "            self.consequents[f'rule_{rule_index}_params'] = (p, q, r, s)\n",
    "\n",
    "        print('model created!')\n",
    "\n",
    "    # this is a plotting function to verify that the membership functions are correct:\n",
    "\n",
    "    def plot_membership_functions(self, max_values):\n",
    "        x1_max, x2_max, x3_max = max_values\n",
    "\n",
    "        input_ranges = {\n",
    "            0: np.linspace(0, x1_max, 1000),\n",
    "            1: np.linspace(0, x2_max, 1000), \n",
    "            2: np.linspace(0, x3_max, 1000),\n",
    "        }\n",
    "\n",
    "        label_values = {\n",
    "            0: 'Low',\n",
    "            1: 'Medium',\n",
    "            2: 'High'\n",
    "        }\n",
    "\n",
    "        # plot mfs for each input:\n",
    "        for input_index in range(self.num_inputs):\n",
    "            x_values = input_ranges[input_index]\n",
    "            plt.figure(figsize=(12, 8))\n",
    "\n",
    "            # plot each mfs for the selected input:\n",
    "            for i in range(self.num_mfs):\n",
    "                params = self.memberships[f'membership_{input_index+1}_{i+1}']\n",
    "                y_values = [triangular_mf(x, params) for x in x_values]\n",
    "                plt.plot(x_values, y_values, label = f'{label_values[i]}')\n",
    "        \n",
    "                plt.title(f'Membership Functions for Input X{input_index + 1}')\n",
    "                plt.xlabel('Input Value')\n",
    "                plt.ylabel('Degree of Membership')\n",
    "                plt.legend()\n",
    "                plt.grid(True)\n",
    "        plt.show()\n",
    "    \n",
    "    # this is the first layer within the anfis, the membership layer:\n",
    "\n",
    "    def membership_layer(self, inputs):\n",
    "\n",
    "        membership_values = {}\n",
    "\n",
    "        # for every input j:\n",
    "        for j in range(self.num_inputs):\n",
    "            # for every membership function for that input:\n",
    "            for i in range(self.num_mfs):\n",
    "                params = self.memberships[f'membership_{j+1}_{i+1}']\n",
    "                x = inputs[j]\n",
    "                membership_values[f'membership_{j+1}_{i+1}'] = triangular_mf(x, params)\n",
    "        \n",
    "        return membership_values\n",
    "    \n",
    "    # this is the second layer within the anfis, the firing strength layer:\n",
    "\n",
    "    def firing_strength_layer(self, membership_values):\n",
    "\n",
    "        firing_strengths = {}\n",
    "        rules = product(range(self.num_mfs), repeat = self.num_inputs)  # pre-generate rule combinations\n",
    "\n",
    "        for rule_index, combination in enumerate(rules, start = 1):\n",
    "            w_k = 1.0\n",
    "            for input_index, mf_index in enumerate(combination):\n",
    "                w_k *= membership_values[f'membership_{input_index + 1}_{mf_index + 1}']\n",
    "            firing_strengths[f'rule_{rule_index}'] = w_k\n",
    "\n",
    "        return firing_strengths\n",
    "   \n",
    "    # this is the third layer within the anfis, the normalization layer:\n",
    "\n",
    "    def normalization_layer(self, firing_strengths):\n",
    "        normalized_firing_strengths = {}\n",
    "        total_strength = sum(firing_strengths.values())\n",
    "\n",
    "        normalized_index = 1\n",
    "        for value in firing_strengths.values():\n",
    "            w_bar_k = value / total_strength \n",
    "            normalized_firing_strengths[f'normalized_value_{normalized_index}'] = w_bar_k\n",
    "            normalized_index += 1\n",
    "\n",
    "        return normalized_firing_strengths\n",
    "    \n",
    "    # this is the fourth layer within the anfis, the rule consequent layer:\n",
    "\n",
    "    def consequent_layer(self, normalized_firing_strengths, inputs):\n",
    "        w_k_f_k = {}\n",
    "\n",
    "        for index, (norm_index, w_bar_k) in enumerate(normalized_firing_strengths.items(), start = 1):\n",
    "            # map the normalized keys to the consequent keys:\n",
    "            rule_key = f'rule_{index}_params'\n",
    "            p, q, r, s = self.consequents[rule_key]\n",
    "\n",
    "            # compute output from this layer:\n",
    "            output = w_bar_k * (p * inputs[0] + q * inputs[1] + r * inputs[2] + s)\n",
    "            w_k_f_k[f'output {index}'] = output\n",
    "\n",
    "        return w_k_f_k\n",
    "\n",
    "    # this is the fifth layer within the anfis, the output layer:\n",
    "\n",
    "    def output_layer(self, w_k_f_k):\n",
    "        return  sum(w_k_f_k.values())\n",
    "\n",
    "    # all together, the forward pass through the network is given by:\n",
    "\n",
    "    def forward_pass(self, inputs):\n",
    "        # need to first pass inputs through the first layer to fuzzify them:\n",
    "        fuzzified = self.membership_layer(inputs)\n",
    "\n",
    "        # now we calculate the firing strength of each rule:\n",
    "        firing_strengths = self.firing_strength_layer(fuzzified)\n",
    "\n",
    "        # now we normalize these firing strengths:\n",
    "        normalized_firing_strengths = self.normalization_layer(firing_strengths)\n",
    "\n",
    "        # determine the rule consequents:\n",
    "        consequents = self.consequent_layer(normalized_firing_strengths, inputs)\n",
    "\n",
    "        # overall network output:\n",
    "        output = self.output_layer(consequents)\n",
    "\n",
    "        # return to user:\n",
    "        return output\n"
   ]
  },
  {
   "cell_type": "markdown",
   "metadata": {},
   "source": [
    "Define model parameters:"
   ]
  },
  {
   "cell_type": "code",
   "execution_count": 34,
   "metadata": {},
   "outputs": [
    {
     "name": "stdout",
     "output_type": "stream",
     "text": [
      "inputs are: [ 2  9 21]\n"
     ]
    }
   ],
   "source": [
    "params = np.array([\n",
    "    [  # Parameters for input 1\n",
    "        [0, 0, 6],\n",
    "        [5/6, 5, 55/6],\n",
    "        [4, 10, 10]\n",
    "    ],\n",
    "    [  # Parameters for input 2\n",
    "        [0, 0 , 15],\n",
    "        [25/12, 12.5, 275/12],\n",
    "        [10, 25, 25]\n",
    "    ],\n",
    "    [  # Parameters for input 3\n",
    "        [0, 0, 30],\n",
    "        [25/6, 25, 275/6],\n",
    "        [15, 50, 50]\n",
    "    ]\n",
    "])\n",
    "\n",
    "max_values = np.array([10, 25, 50])"
   ]
  },
  {
   "cell_type": "markdown",
   "metadata": {},
   "source": [
    "Create the model:"
   ]
  },
  {
   "cell_type": "code",
   "execution_count": 35,
   "metadata": {},
   "outputs": [
    {
     "name": "stdout",
     "output_type": "stream",
     "text": [
      "params set to other than None\n",
      "model created!\n"
     ]
    }
   ],
   "source": [
    "model = ANFIS(num_inputs = 3, num_mfs = 3, params = params)"
   ]
  },
  {
   "cell_type": "markdown",
   "metadata": {},
   "source": [
    "Test the forward pass:"
   ]
  },
  {
   "cell_type": "code",
   "execution_count": 41,
   "metadata": {},
   "outputs": [
    {
     "name": "stdout",
     "output_type": "stream",
     "text": [
      "inputs are: [ 2 11 21]\n"
     ]
    },
    {
     "data": {
      "text/plain": [
       "np.float64(-2.844700316518354)"
      ]
     },
     "execution_count": 41,
     "metadata": {},
     "output_type": "execute_result"
    }
   ],
   "source": [
    "inputs = np.array([2, 11, 21])\n",
    "print(f'inputs are: {inputs}')\n",
    "\n",
    "model.forward_pass(inputs)"
   ]
  }
 ],
 "metadata": {
  "kernelspec": {
   "display_name": "Python 3",
   "language": "python",
   "name": "python3"
  },
  "language_info": {
   "codemirror_mode": {
    "name": "ipython",
    "version": 3
   },
   "file_extension": ".py",
   "mimetype": "text/x-python",
   "name": "python",
   "nbconvert_exporter": "python",
   "pygments_lexer": "ipython3",
   "version": "3.12.5"
  }
 },
 "nbformat": 4,
 "nbformat_minor": 2
}
