{
 "cells": [
  {
   "cell_type": "markdown",
   "metadata": {},
   "source": [
    "# **Introduction:**\n",
    "\n",
    "This file serves to design and test a custom implementation of an Adaptive Neuro-Fuzzy Inference System (ANFIS). This will be trained and evaluated against the ANN designed previously. \n",
    "\n",
    "This ANFIS takes the load history, the distance to the task, and the total distance travelled thus far and performs inference about the suitability of a given robot for a task at hand. \n",
    "\n",
    "**Date Created:** 13/01/2025\n",
    "\n",
    "**Date Modified:** 14/01/2025"
   ]
  },
  {
   "cell_type": "markdown",
   "metadata": {},
   "source": [
    "# **Import Packages:** \n",
    "\n",
    "This section imports all the necessary packages for the ANFIS implementation. "
   ]
  },
  {
   "cell_type": "code",
   "execution_count": 80,
   "metadata": {},
   "outputs": [],
   "source": [
    "# import packages:\n",
    "import numpy as np\n",
    "import tensorflow as tf\n",
    "import pandas as pd\n",
    "from sklearn.model_selection import train_test_split\n",
    "import matplotlib.pyplot as plt\n",
    "# from tensorflow.keras import layers, Sequential\n",
    "# from tensorflow.keras.optimizers import Adam"
   ]
  },
  {
   "cell_type": "markdown",
   "metadata": {},
   "source": [
    "# **Layer Function & Class Definitions:**\n",
    "\n",
    "Need to define the membership function to be used first:"
   ]
  },
  {
   "cell_type": "code",
   "execution_count": 81,
   "metadata": {},
   "outputs": [],
   "source": [
    "# triangular membership function:\n",
    "def triangular_mf(x, params):\n",
    "    a, b, c = params\n",
    "\n",
    "    if x <= a or x >= c:\n",
    "        return 0\n",
    "    elif a < x < b:\n",
    "        return (x - a) / (b - a)\n",
    "    elif b < x < c:\n",
    "        return (c - x) / (c - b)\n",
    "    elif x == b:\n",
    "        return 1\n",
    "    elif x == c:\n",
    "        return 1"
   ]
  },
  {
   "cell_type": "markdown",
   "metadata": {},
   "source": [
    "Now need to define the ANFIS class:"
   ]
  },
  {
   "cell_type": "code",
   "execution_count": 82,
   "metadata": {},
   "outputs": [],
   "source": [
    "class ANFIS:\n",
    "    # object constructor:\n",
    "    def __init__(self, num_inputs, num_mfs, num_rules, params = None):\n",
    "        # need to instantiate the object:\n",
    "        self.num_inputs = num_inputs\n",
    "        self.num_mfs = num_mfs\n",
    "        self.num_rules = num_rules\n",
    "        self.memberships = {}\n",
    "\n",
    "        # must first assign the antecedent parameters:\n",
    "        # if custom:\n",
    "        if params is not None:\n",
    "            for j in range(self.num_inputs):\n",
    "                for i in range(self.num_mfs):\n",
    "                    self.memberships[f'membership_{j+1}_{i+1}'] = params[j, i, :]\n",
    "            print('params set to other than None')\n",
    "        # if not custom, randomly initialize them:\n",
    "        else:\n",
    "            for j in range(self.num_inputs):\n",
    "                for i in range(self.num_mfs):\n",
    "                    a = np.random.uniform(low = -1.0, high = 1.0)\n",
    "                    b = np.random.uniform(low = -1.0, high = 1.0)\n",
    "                    c = np.random.uniform(low = -1.0, high = 1.0)\n",
    "\n",
    "                    params = np.array([a, b, c])\n",
    "                    self.memberships[f'membership_{j+1}_{i+1}'] = params\n",
    "\n",
    "        print('model created!')\n",
    "\n",
    "    # this is a plotting function to verify that the membership functions are correct:\n",
    "\n",
    "    def plot_membership_functions(self, max_values):\n",
    "        x1_max, x2_max, x3_max = max_values\n",
    "\n",
    "        input_ranges = {\n",
    "            0: np.linspace(0, x1_max, 1000),\n",
    "            1: np.linspace(0, x2_max, 1000), \n",
    "            2: np.linspace(0, x3_max, 1000),\n",
    "        }\n",
    "\n",
    "        label_values = {\n",
    "            0: 'Low',\n",
    "            1: 'Medium',\n",
    "            2: 'High'\n",
    "        }\n",
    "\n",
    "        # plot mfs for each input:\n",
    "        for input_index in range(self.num_inputs):\n",
    "            x_values = input_ranges[input_index]\n",
    "            plt.figure(figsize=(12, 8))\n",
    "\n",
    "            # plot each mfs for the selected input:\n",
    "            for i in range(self.num_mfs):\n",
    "                params = self.memberships[f'membership_{input_index+1}_{i+1}']\n",
    "                y_values = [triangular_mf(x, params) for x in x_values]\n",
    "                plt.plot(x_values, y_values, label = f'{label_values[i]}')\n",
    "        \n",
    "                plt.title(f'Membership Functions for Input {input_index + 1}')\n",
    "                plt.xlabel('Input Value')\n",
    "                plt.ylabel('Degree of Membership')\n",
    "                plt.legend()\n",
    "                plt.grid(True)\n",
    "        plt.show()\n",
    "    \n",
    "    # this is the first layer within the anfis, the membership layer:\n",
    "\n",
    "    def membership_layer(self, inputs):\n",
    "\n",
    "        membership_values = {}\n",
    "\n",
    "        # for every input j:\n",
    "        for j in range(self.num_inputs):\n",
    "            # for every membership function for that input:\n",
    "            for i in range(self.num_mfs):\n",
    "                params = self.memberships[f'membership_{j+1}_{i+1}']\n",
    "                print(params)\n",
    "                x = inputs[j]\n",
    "                membership_values[f'membership_{j+1}_{i+1}'] = triangular_mf(x, params)\n",
    "        \n",
    "        return membership_values\n",
    "    \n",
    "    # this is the second layer within the anfis, the firing strength layer:\n",
    "    \n",
    "    # def firing_strength_layer(self, inputs):\n"
   ]
  },
  {
   "cell_type": "markdown",
   "metadata": {},
   "source": [
    "Test the class:"
   ]
  },
  {
   "cell_type": "code",
   "execution_count": 83,
   "metadata": {},
   "outputs": [
    {
     "name": "stdout",
     "output_type": "stream",
     "text": [
      "params set to other than None\n",
      "model created!\n"
     ]
    }
   ],
   "source": [
    "params = np.array([\n",
    "    [  # Parameters for input 1\n",
    "        [0, 0, 6],\n",
    "        [5/6, 5, 55/6],\n",
    "        [4, 10, 10]\n",
    "    ],\n",
    "    [  # Parameters for input 2\n",
    "        [0, 0 , 15],\n",
    "        [25/12, 12.5, 275/12],\n",
    "        [10, 25, 25]\n",
    "    ],\n",
    "    [  # Parameters for input 3\n",
    "        [0, 0, 30],\n",
    "        [25/6, 25, 275/6],\n",
    "        [15, 50, 50]\n",
    "    ]\n",
    "])\n",
    "\n",
    "inputs = np.array([2, 12, 21])\n",
    "max_values = np.array([10, 25, 50])\n",
    "\n",
    "test = ANFIS(num_inputs = 3, num_mfs = 3, num_rules = 2, params = params)"
   ]
  }
 ],
 "metadata": {
  "kernelspec": {
   "display_name": "Python 3",
   "language": "python",
   "name": "python3"
  },
  "language_info": {
   "codemirror_mode": {
    "name": "ipython",
    "version": 3
   },
   "file_extension": ".py",
   "mimetype": "text/x-python",
   "name": "python",
   "nbconvert_exporter": "python",
   "pygments_lexer": "ipython3",
   "version": "3.12.5"
  }
 },
 "nbformat": 4,
 "nbformat_minor": 2
}
