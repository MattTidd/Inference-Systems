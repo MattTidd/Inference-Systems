{
 "cells": [
  {
   "cell_type": "markdown",
   "metadata": {},
   "source": [
    "# **Introduction:**\n",
    "\n",
    "This file serves to design and test a custom implementation of an Adaptive Neuro-Fuzzy Inference System (ANFIS). This will be trained and evaluated against the ANN designed previously. \n",
    "\n",
    "This ANFIS takes the load history, the distance to the task, and the total distance travelled thus far and performs inference about the suitability of a given robot for a task at hand. \n",
    "\n",
    "**Date Created:** 13/01/2025\n",
    "\n",
    "**Date Modified:** 14/01/2025"
   ]
  },
  {
   "cell_type": "markdown",
   "metadata": {},
   "source": [
    "# **Import Packages:** \n",
    "\n",
    "This section imports all the necessary packages for the ANFIS implementation. "
   ]
  },
  {
   "cell_type": "code",
   "execution_count": 207,
   "metadata": {},
   "outputs": [],
   "source": [
    "# import packages:\n",
    "import numpy as np\n",
    "import tensorflow as tf\n",
    "import pandas as pd\n",
    "from sklearn.model_selection import train_test_split\n",
    "# from tensorflow.keras import layers, Sequential\n",
    "# from tensorflow.keras.optimizers import Adam"
   ]
  },
  {
   "cell_type": "markdown",
   "metadata": {},
   "source": [
    "# **Layer Function & Class Definitions:**\n",
    "\n",
    "Need to define the membership function to be used first:"
   ]
  },
  {
   "cell_type": "code",
   "execution_count": 208,
   "metadata": {},
   "outputs": [],
   "source": [
    "# triangular membership function:\n",
    "def triangular_mf(x, a, b, c):\n",
    "\n",
    "    if x <= a or x >= c:\n",
    "        return 0\n",
    "    elif a <= x <= b:\n",
    "        return (x - a) / (b - a)\n",
    "    elif b <= x <= c:\n",
    "        return (c - x) / (c - b)"
   ]
  },
  {
   "cell_type": "markdown",
   "metadata": {},
   "source": [
    "Now need to define the ANFIS class:"
   ]
  },
  {
   "cell_type": "code",
   "execution_count": null,
   "metadata": {},
   "outputs": [],
   "source": [
    "class ANFIS:\n",
    "    # object constructor:\n",
    "    def __init__(self, num_inputs, num_mfs, num_rules, params = None):\n",
    "        # need to instantiate the object:\n",
    "        self.num_inputs = num_inputs\n",
    "        self.num_mfs = num_mfs\n",
    "        self.num_rules = num_rules\n",
    "        self.memberships = {}\n",
    "\n",
    "        # must first assign the antecedent parameters:\n",
    "        # if custom:\n",
    "        if params is not None:\n",
    "            for j in range(self.num_inputs):\n",
    "                for i in range(self.num_mfs):\n",
    "                    self.memberships[f'membership_{j+1}_{i+1}'] = params[j, i, :]\n",
    "            print('params set to other than None')\n",
    "        # if not custom, randomly initialize them:\n",
    "        else:\n",
    "            for j in range(self.num_inputs):\n",
    "                for i in range(self.num_mfs):\n",
    "                    a = np.random.uniform(low = -1.0, high = 1.0)\n",
    "                    b = np.random.uniform(low = -1.0, high = 1.0)\n",
    "                    c = np.random.uniform(low = -1.0, high = 1.0)\n",
    "\n",
    "                    params = np.array([a, b, c])\n",
    "                    self.memberships[f'membership_{j+1}_{i+1}'] = params\n",
    "\n",
    "        print('model created!')\n",
    "\n",
    "    # need to now define functions for each layer, and then define a forward pass function to compute the output\n",
    "    # following this, need to implement a hybrid training function"
   ]
  },
  {
   "cell_type": "markdown",
   "metadata": {},
   "source": [
    "Test the class:"
   ]
  },
  {
   "cell_type": "code",
   "execution_count": 261,
   "metadata": {},
   "outputs": [
    {
     "name": "stdout",
     "output_type": "stream",
     "text": [
      "model created!\n"
     ]
    },
    {
     "data": {
      "text/plain": [
       "{'membership_1_1': array([ 0.64769581,  0.92781654, -0.41738002]),\n",
       " 'membership_1_2': array([ 0.71394996,  0.05951031, -0.77881776]),\n",
       " 'membership_1_3': array([ 0.77833707, -0.71163908, -0.84566516]),\n",
       " 'membership_2_1': array([ 0.38426555,  0.11261475, -0.13532171]),\n",
       " 'membership_2_2': array([-0.27867309,  0.95411902,  0.7288383 ]),\n",
       " 'membership_2_3': array([-0.59121436,  0.26144389,  0.17865711]),\n",
       " 'membership_3_1': array([ 0.98388332, -0.89417638, -0.51903435]),\n",
       " 'membership_3_2': array([-0.37169375, -0.29706991,  0.30763957]),\n",
       " 'membership_3_3': array([-0.00954741,  0.44573394, -0.52035136])}"
      ]
     },
     "execution_count": 261,
     "metadata": {},
     "output_type": "execute_result"
    }
   ],
   "source": [
    "params = np.array([\n",
    "    [  # Parameters for input 1\n",
    "        [0, 0, 6],\n",
    "        [5/6, 5, 55/6],\n",
    "        [4, 10, 10]\n",
    "    ],\n",
    "    [  # Parameters for input 2\n",
    "        [1, 2, 3],\n",
    "        [4, 5, 6],\n",
    "        [7, 8, 9]\n",
    "    ],\n",
    "    [  # Parameters for input 3\n",
    "        [2, 4, 6],\n",
    "        [3, 6, 9],\n",
    "        [5, 10, 15]\n",
    "    ]\n",
    "])\n",
    "test = ANFIS(num_inputs = 3, num_mfs = 3, num_rules = 2, params = None)\n",
    "test.memberships"
   ]
  }
 ],
 "metadata": {
  "kernelspec": {
   "display_name": "Python 3",
   "language": "python",
   "name": "python3"
  },
  "language_info": {
   "codemirror_mode": {
    "name": "ipython",
    "version": 3
   },
   "file_extension": ".py",
   "mimetype": "text/x-python",
   "name": "python",
   "nbconvert_exporter": "python",
   "pygments_lexer": "ipython3",
   "version": "3.12.5"
  }
 },
 "nbformat": 4,
 "nbformat_minor": 2
}
