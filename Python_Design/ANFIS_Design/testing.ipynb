{
 "cells": [
  {
   "cell_type": "markdown",
   "metadata": {},
   "source": [
    "testing keras custom layer stuff"
   ]
  },
  {
   "cell_type": "code",
   "execution_count": 202,
   "metadata": {},
   "outputs": [],
   "source": [
    "# import packages:\n",
    "import numpy as np\n",
    "import pandas as pd\n",
    "import matplotlib.pyplot as plt\n",
    "from itertools import product\n",
    "import os \n",
    "import tensorflow as tf\n",
    "from tensorflow.keras import Input, Model, regularizers, constraints, layers, optimizers\n",
    "from keras.layers import Layer\n",
    "from keras.callbacks import EarlyStopping\n",
    "from sklearn.model_selection import train_test_split\n",
    "from sklearn.preprocessing import StandardScaler\n",
    "from sklearn.metrics import r2_score"
   ]
  },
  {
   "cell_type": "markdown",
   "metadata": {},
   "source": [
    "define classes:"
   ]
  },
  {
   "cell_type": "code",
   "execution_count": 203,
   "metadata": {},
   "outputs": [],
   "source": [
    "# randomizer seed:\n",
    "np.random.seed(0)\n",
    "\n",
    "# need to define a constraint for training the parameters:\n",
    "class OrderedConstraint(constraints.Constraint):\n",
    "    # constructor:\n",
    "    def __init__(self):\n",
    "        pass\n",
    "\n",
    "    # call function for constraint:\n",
    "    def __call__(self, W):\n",
    "        return tf.sort(W, axis = 2)\n",
    "\n",
    "# first layer: \n",
    "class MF_Layer(Layer):\n",
    "    # constructor:\n",
    "    def __init__(self, num_inputs, num_mfs, **kwargs):\n",
    "        super(MF_Layer, self).__init__(**kwargs)\n",
    "        self.num_inputs = num_inputs\n",
    "        self.num_mfs = num_mfs\n",
    "\n",
    "        # need to initialize antecedent parameters, but a <= b <= c. therefore \n",
    "        # generate a set of \"raw parameters\" to be sorted. these are not trained\n",
    "\n",
    "        raw_params = np.random.uniform(low = 0.0, high = 50.0, size = (self.num_inputs, self.num_mfs, 3))\n",
    "        sorted_params = tf.sort(raw_params, axis = -1)\n",
    "\n",
    "        self.mf_params = self.add_weight(\n",
    "            shape = (self.num_inputs, self.num_mfs, 3),             # num_inputs, num_mfs per input, 3 params per mf (triangular)\n",
    "            initializer = tf.constant_initializer(sorted_params.numpy()),\n",
    "            trainable = True,\n",
    "            constraint = OrderedConstraint(),\n",
    "            name = 'Antecedent_Params'\n",
    "        )\n",
    "\n",
    "    # custom setting of weights:\n",
    "    def set_weights(self, params):\n",
    "        # this function is used to set weights based on what a user provides\n",
    "        # user must provide weights in the form of a np.array of shape (num_mfs, num_params)\n",
    "\n",
    "        if params.shape != (self.num_inputs, self.num_mfs, 3):\n",
    "            raise ValueError(f'Parameters provided are not of correct shape, expected ({self.num_inputs}, {self.num_mfs}, 3)')\n",
    "\n",
    "        self.mf_params = params\n",
    "        \n",
    "\n",
    "    # function call:\n",
    "    def call(self, inputs):\n",
    "        # need to initialize the membership values:\n",
    "        membership_values = []\n",
    "\n",
    "        # for every input:\n",
    "        for i in range(self.num_inputs):\n",
    "            # get the memberships for that input:\n",
    "            input_mf_params = self.mf_params[i]\n",
    "\n",
    "            # need to now compute the fuzzified value for each membership function:\n",
    "            fuzzified_values = []\n",
    "\n",
    "            # for every membership function:\n",
    "            for j in range(self.num_mfs):\n",
    "                a = input_mf_params[j, 0]\n",
    "                b = input_mf_params[j, 1]\n",
    "                c = input_mf_params[j, 2]\n",
    "\n",
    "                # check to see if we are on the edges:\n",
    "                is_left_edge = (j == 0) & (a == b)                  # this would be the left-most ramp\n",
    "                is_right_edge = (j == self.num_mfs - 1) & (b == c)  # this would be the right-most ramp\n",
    "        \n",
    "                # ramp calculations:\n",
    "                left = tf.where((inputs[:, i] == a) & is_left_edge, 1.0, (inputs[:, i] - a) / (b - a))\n",
    "                right = tf.where((inputs[:, i] == c) & is_right_edge, 1.0, (c - inputs[:, i]) / (c - b))\n",
    "\n",
    "                output = tf.maximum(0.0, tf.minimum(left, right))\n",
    "\n",
    "                fuzzified_values.append(output)\n",
    "        \n",
    "            # need to now stack the mf values for that given input:\n",
    "            membership_values.append(tf.stack(fuzzified_values, axis = -1))\n",
    "\n",
    "        # stack everything and return:\n",
    "        return tf.stack(membership_values, axis = 1)\n"
   ]
  },
  {
   "cell_type": "markdown",
   "metadata": {},
   "source": [
    "values for making model:"
   ]
  },
  {
   "cell_type": "markdown",
   "metadata": {},
   "source": [
    "model testing:"
   ]
  },
  {
   "cell_type": "code",
   "execution_count": 204,
   "metadata": {},
   "outputs": [
    {
     "name": "stdout",
     "output_type": "stream",
     "text": [
      "weights before: \n",
      "[[[27.440676  30.138168  35.759468 ]\n",
      "  [21.18274   27.24416   32.294704 ]\n",
      "  [21.87936   44.58865   48.18314  ]]\n",
      "\n",
      " [[19.172075  26.444746  39.58625  ]\n",
      "  [ 3.5518029 28.402227  46.27983  ]\n",
      "  [ 1.0109199  4.356465  41.630993 ]]\n",
      "\n",
      " [[38.907837  43.500607  48.930916 ]\n",
      "  [23.073969  39.02646   39.957928 ]\n",
      "  [ 5.913721   7.1676645 31.996052 ]]]\n",
      "\n",
      "weights after: \n",
      "[[[ 0.         0.         6.       ]\n",
      "  [ 0.8333333  5.         9.166667 ]\n",
      "  [ 4.        10.        10.       ]]\n",
      "\n",
      " [[ 0.         0.        15.       ]\n",
      "  [ 2.0833333 12.5       22.916666 ]\n",
      "  [10.        25.        25.       ]]\n",
      "\n",
      " [[ 0.         0.        30.       ]\n",
      "  [ 4.1666665 25.        45.833332 ]\n",
      "  [15.        50.        50.       ]]]\n",
      "\n"
     ]
    }
   ],
   "source": [
    "model = MF_Layer(3,3)\n",
    "params = tf.constant(np.array([\n",
    "    [  # Parameters for input 1\n",
    "        [0.0, 0.0, 6.0],\n",
    "        [5/6, 5.0, 55/6],\n",
    "        [4.0, 10.0, 10.0]\n",
    "    ],\n",
    "    [  # Parameters for input 2\n",
    "        [0.0, 0.0 , 15.0],\n",
    "        [25/12, 12.5, 275/12],\n",
    "        [10.0, 25.0, 25.0]\n",
    "    ],\n",
    "    [  # Parameters for input 3\n",
    "        [0.0, 0.0, 30.0],\n",
    "        [25/6, 25.0, 275/6],\n",
    "        [15.0, 50.0, 50.0]\n",
    "    ]\n",
    "]), dtype = tf.float32)\n",
    "\n",
    "print(f'weights before: \\n{model.mf_params.numpy()}\\n')\n",
    "\n",
    "model.set_weights(params)\n",
    "print(f'weights after: \\n{model.mf_params}\\n')"
   ]
  },
  {
   "cell_type": "code",
   "execution_count": 205,
   "metadata": {},
   "outputs": [
    {
     "data": {
      "text/plain": [
       "<tf.Tensor: shape=(1, 3, 3), dtype=float32, numpy=\n",
       "array([[[1., 0., 0.],\n",
       "        [1., 0., 0.],\n",
       "        [1., 0., 0.]]], dtype=float32)>"
      ]
     },
     "execution_count": 205,
     "metadata": {},
     "output_type": "execute_result"
    }
   ],
   "source": [
    "# going to check edge cases:\n",
    "input = tf.constant([[0, 0, 0]], dtype = tf.float32)\n",
    "model(input)"
   ]
  }
 ],
 "metadata": {
  "kernelspec": {
   "display_name": "Python 3",
   "language": "python",
   "name": "python3"
  },
  "language_info": {
   "codemirror_mode": {
    "name": "ipython",
    "version": 3
   },
   "file_extension": ".py",
   "mimetype": "text/x-python",
   "name": "python",
   "nbconvert_exporter": "python",
   "pygments_lexer": "ipython3",
   "version": "3.12.5"
  }
 },
 "nbformat": 4,
 "nbformat_minor": 2
}
