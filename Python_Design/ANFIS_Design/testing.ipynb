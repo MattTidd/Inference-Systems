{
 "cells": [
  {
   "cell_type": "markdown",
   "metadata": {},
   "source": [
    "testing keras custom layer stuff"
   ]
  },
  {
   "cell_type": "code",
   "execution_count": 356,
   "metadata": {},
   "outputs": [],
   "source": [
    "# import packages:\n",
    "import numpy as np\n",
    "import pandas as pd\n",
    "import matplotlib.pyplot as plt\n",
    "from itertools import product\n",
    "import os \n",
    "import tensorflow as tf\n",
    "from tensorflow.keras import Input, Model, regularizers, constraints, layers, optimizers\n",
    "from keras.layers import Layer\n",
    "from keras.callbacks import EarlyStopping\n",
    "from sklearn.model_selection import train_test_split\n",
    "from sklearn.preprocessing import StandardScaler\n",
    "from sklearn.metrics import r2_score"
   ]
  },
  {
   "cell_type": "markdown",
   "metadata": {},
   "source": [
    "define classes:"
   ]
  },
  {
   "cell_type": "code",
   "execution_count": 357,
   "metadata": {},
   "outputs": [],
   "source": [
    "# randomizer seed:\n",
    "np.random.seed(0)\n",
    "\n",
    "# need to define a constraint for training the parameters:\n",
    "class OrderedConstraint(constraints.Constraint):\n",
    "    # constructor:\n",
    "    def __init__(self):\n",
    "        pass\n",
    "\n",
    "    # call function for constraint:\n",
    "    def __call__(self, W):\n",
    "        return tf.sort(W, axis = 2)\n",
    "\n",
    "# first layer: \n",
    "class MF_Layer(Layer):\n",
    "    # constructor:\n",
    "    def __init__(self, num_inputs, num_mfs, **kwargs):\n",
    "        super(MF_Layer, self).__init__(**kwargs)\n",
    "        self.num_inputs = num_inputs\n",
    "        self.num_mfs = num_mfs\n",
    "\n",
    "        # need to initialize antecedent parameters, but a <= b <= c. therefore \n",
    "        # generate a set of \"raw parameters\" to be sorted. these are not trained\n",
    "\n",
    "        raw_params = np.random.uniform(low = 0.0, high = 50.0, size = (self.num_inputs, self.num_mfs, 3))\n",
    "        sorted_params = tf.sort(raw_params, axis = -1)\n",
    "\n",
    "        self.mf_params = self.add_weight(\n",
    "            shape = (self.num_inputs, self.num_mfs, 3),             # num_inputs, num_mfs per input, 3 params per mf (triangular)\n",
    "            initializer = tf.constant_initializer(sorted_params.numpy()),\n",
    "            trainable = True,\n",
    "            constraint = OrderedConstraint(),\n",
    "            name = 'Antecedent_Params'\n",
    "        )\n",
    "\n",
    "    # # custom setting of weights:\n",
    "    # def set_weights(self, input_index, mf_index, weights):\n",
    "    #     # this function is used to set weights based on what a user provides\n",
    "    #     # user must provide weights in the form of a np.array of shape (3,)\n",
    "        \n",
    "\n",
    "    # function call:\n",
    "    def call(self, inputs):\n",
    "        # need to initialize the membership values:\n",
    "        membership_values = []\n",
    "\n",
    "        # for every input:\n",
    "        for i in range(self.num_inputs):\n",
    "            # get the memberships for that input:\n",
    "            input_mf_params = self.mf_params[i]\n",
    "\n",
    "            # need to now compute the fuzzified value for each membership function:\n",
    "            fuzzified_values = []\n",
    "\n",
    "            # for every membership function:\n",
    "            for j in range(self.num_mfs):\n",
    "                a = input_mf_params[j, 0]\n",
    "                b = input_mf_params[j, 1]\n",
    "                c = input_mf_params[j, 2]\n",
    "\n",
    "                left = (inputs[:, i] - a) / (b - a)     \n",
    "                right = (c - inputs[:, i]) / (c - b)\n",
    "\n",
    "                output = tf.maximum(0.0, tf.minimum(left, right))\n",
    "\n",
    "                fuzzified_values.append(output)\n",
    "        \n",
    "            # need to now stack the mf values for that given input:\n",
    "            membership_values.append(tf.stack(fuzzified_values, axis = -1))\n",
    "\n",
    "        # stack everything and return:\n",
    "        return tf.stack(membership_values, axis = 1)\n"
   ]
  },
  {
   "cell_type": "markdown",
   "metadata": {},
   "source": [
    "values for making model:"
   ]
  },
  {
   "cell_type": "markdown",
   "metadata": {},
   "source": [
    "model testing:"
   ]
  },
  {
   "cell_type": "code",
   "execution_count": 358,
   "metadata": {},
   "outputs": [
    {
     "name": "stdout",
     "output_type": "stream",
     "text": [
      "[3 1 4]\n"
     ]
    }
   ],
   "source": [
    "model = MF_Layer(3,3)\n",
    "\n",
    "weights = np.array([3, 1, 4])\n",
    "\n"
   ]
  }
 ],
 "metadata": {
  "kernelspec": {
   "display_name": "Python 3",
   "language": "python",
   "name": "python3"
  },
  "language_info": {
   "codemirror_mode": {
    "name": "ipython",
    "version": 3
   },
   "file_extension": ".py",
   "mimetype": "text/x-python",
   "name": "python",
   "nbconvert_exporter": "python",
   "pygments_lexer": "ipython3",
   "version": "3.12.5"
  }
 },
 "nbformat": 4,
 "nbformat_minor": 2
}
