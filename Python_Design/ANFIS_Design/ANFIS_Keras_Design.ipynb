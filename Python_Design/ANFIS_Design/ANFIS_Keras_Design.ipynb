{
 "cells": [
  {
   "cell_type": "markdown",
   "metadata": {},
   "source": [
    "# **Introduction:**\n",
    "\n",
    "This file serves to host an attempted Keras implementation of an Adaptive Neuro-Fuzzy Inference System (ANFIS).\n",
    "\n",
    "**Date Created:** 22/01/2025\n",
    "\n",
    "**Date Modified:** 23/01/2025"
   ]
  },
  {
   "cell_type": "markdown",
   "metadata": {},
   "source": [
    "# **Import Packages:**\n",
    "\n",
    "This section imports all the necessary packages for the ANFIS implementation."
   ]
  },
  {
   "cell_type": "code",
   "execution_count": 4,
   "metadata": {},
   "outputs": [],
   "source": [
    "# import packages:\n",
    "import numpy as np\n",
    "import tensorflow as tf\n",
    "import pandas as pd\n",
    "from sklearn.model_selection import train_test_split\n",
    "from sklearn.preprocessing import StandardScaler\n",
    "import matplotlib.pyplot as plt\n",
    "from keras.layers import Layer"
   ]
  },
  {
   "cell_type": "markdown",
   "metadata": {},
   "source": [
    "# **Function & Layer Definition:**\n",
    "\n",
    "This section creates the necessary custom functions and layers for this ANFIS implementation within Keras. "
   ]
  },
  {
   "cell_type": "code",
   "execution_count": 5,
   "metadata": {},
   "outputs": [],
   "source": [
    "# need to first define the initial layer -> the membership function layer\n",
    "class MembershipFunctionLayer(Layer):\n",
    "    # constructor:\n",
    "    def __init__(self, num_inputs, num_mfs, params = None, **kwargs):   # by including **kwargs, we allow for additional arguments from keras, like name or dtype\n",
    "        super(MembershipFunctionLayer, self).__init__(**kwargs)         # we are subclassing from the keras layer -> telling the constructor to make our layer like a keras layer\n",
    "        self.num_inputs = num_inputs\n",
    "        self.num_mfs = num_mfs\n",
    "        self.num_rules = num_mfs ** num_inputs\n",
    "\n",
    "        if params is not None:\n",
    "            # initialize custom parameters defined by the user:\n",
    "            self.mf_params = self.add_weight(\n",
    "                shape=(self.num_inputs, self.num_mfs, 3),\n",
    "                initializer=tf.constant_initializer(params),\n",
    "                trainable=True,\n",
    "                name=\"mf_params\",\n",
    "            )\n",
    "            print('Custom parameters have been set.')\n",
    "        else:\n",
    "            # initialize raw membership parameters:\n",
    "            raw_params = self.add_weight(\n",
    "                shape = (self.num_inputs, self.num_mfs, 3),\n",
    "                initializer = \"random_uniform\",\n",
    "                trainable = True,\n",
    "                name = \"Raw MF Params\",\n",
    "            )\n",
    "\n",
    "            # sort the parameters such that a <= b <= c:\n",
    "            sorted_params = tf.sort(raw_params, axis = 1)\n",
    "            self.mf_params = self.add_weight(\n",
    "                shape = (self.num_inputs, self.num_mfs, 3),\n",
    "                initializer = tf.constant_initializer(sorted_params.numpy()),\n",
    "                trainable = True, \n",
    "                name = 'MF Params'\n",
    "            )\n",
    "            print('Random parameters have been set.')\n",
    "\n",
    "    # define the triangular membership function within this layer as this is where it is used:\n",
    "    def triangular_membership(self, x, params):\n",
    "        a, b, c = params\n",
    "\n",
    "        if a > b or b > c:\n",
    "            raise ValueError(\"Invalid parameters: Ensure a < b < c.\")\n",
    "    \n",
    "        if a == b:  # rising ramp (plateau at b, c)\n",
    "            return np.maximum(0, np.minimum(1, (c - x) / (c - b)))\n",
    "        elif b == c:  # falling ramp (plateau at a, b)\n",
    "            return np.maximum(0, np.minimum(1, (x - a) / (b - a)))\n",
    "        \n",
    "        # general triangular shape\n",
    "        return np.maximum(0, np.minimum((x - a) / (b - a), (c - x) / (c - b)))\n",
    "    \n",
    "    # need to define the call -> this is what gets executed by the layer:\n",
    "    def call(self, inputs):\n",
    "        # initialize list to hold membership values:\n",
    "        membership_values = []\n",
    "\n",
    "        # loop through each input:\n",
    "        for i in range(self.num_inputs):\n",
    "            input_values = inputs[:, i]   # for a given column, everything in the row\n",
    "            mf_values = []                # initialize list for the MF values of this input\n",
    "\n",
    "            # for every membership function:\n",
    "            for j in range(self.num_mfs):\n",
    "                params = self.mf_params[i, j].numpy()  # extract params\n",
    "\n",
    "                mf_values.append(np.array([self.triangular_membership(x, params) for x in input_values]))\n",
    "\n",
    "            membership_values.append(np.stack(mf_values, axis=-1))  # stack MFs for this input\n",
    "\n",
    "        # combine memberships for all inputs into a single tensor\n",
    "        membership_values = tf.convert_to_tensor(np.stack(membership_values, axis=1), dtype=tf.float32)\n",
    "\n",
    "        return membership_values\n"
   ]
  },
  {
   "cell_type": "markdown",
   "metadata": {},
   "source": [
    "# **Test by Creating a Model:**\n",
    "\n",
    "This section tests the designed layers by creating a model, adding the custom layers, and testing their operation. "
   ]
  },
  {
   "cell_type": "code",
   "execution_count": 6,
   "metadata": {},
   "outputs": [
    {
     "name": "stdout",
     "output_type": "stream",
     "text": [
      "Custom parameters have been set.\n"
     ]
    },
    {
     "data": {
      "text/plain": [
       "<tf.Tensor: shape=(2, 3, 3), dtype=float32, numpy=\n",
       "array([[[0.6666667 , 0.28000003, 0.        ],\n",
       "        [0.4       , 0.66400003, 0.        ],\n",
       "        [0.3       , 0.808     , 0.17142858]],\n",
       "\n",
       "       [[0.        , 0.28000006, 0.6666667 ],\n",
       "        [0.        , 0.        , 0.8666667 ],\n",
       "        [0.        , 0.        , 0.94285715]]], dtype=float32)>"
      ]
     },
     "execution_count": 6,
     "metadata": {},
     "output_type": "execute_result"
    }
   ],
   "source": [
    "# define the following to be used in model generation:\n",
    "num_inputs = 3\n",
    "num_mfs = 3\n",
    "params = np.array([\n",
    "    [  # Parameters for input 1\n",
    "        [0, 0, 6],\n",
    "        [5/6, 5, 55/6],\n",
    "        [4, 10, 10]\n",
    "    ],\n",
    "    [  # Parameters for input 2\n",
    "        [0, 0 , 15],\n",
    "        [25/12, 12.5, 275/12],\n",
    "        [10, 25, 25]\n",
    "    ],\n",
    "    [  # Parameters for input 3\n",
    "        [0, 0, 30],\n",
    "        [25/6, 25, 275/6],\n",
    "        [15, 50, 50]\n",
    "    ]\n",
    "])\n",
    "\n",
    "# generate a model:\n",
    "membership_layer = MembershipFunctionLayer(num_inputs = num_inputs, num_mfs = num_mfs, params = params)\n",
    "\n",
    "inputs = tf.constant([[2, 9, 21], [8, 23, 48]], dtype=tf.float32)\n",
    "\n",
    "membership_layer(inputs)"
   ]
  }
 ],
 "metadata": {
  "kernelspec": {
   "display_name": "Python 3",
   "language": "python",
   "name": "python3"
  },
  "language_info": {
   "codemirror_mode": {
    "name": "ipython",
    "version": 3
   },
   "file_extension": ".py",
   "mimetype": "text/x-python",
   "name": "python",
   "nbconvert_exporter": "python",
   "pygments_lexer": "ipython3",
   "version": "3.12.5"
  }
 },
 "nbformat": 4,
 "nbformat_minor": 2
}
